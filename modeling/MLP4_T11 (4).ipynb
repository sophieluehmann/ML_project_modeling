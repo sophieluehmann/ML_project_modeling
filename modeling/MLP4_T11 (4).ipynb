{
 "cells": [
  {
   "cell_type": "code",
   "execution_count": 25,
   "id": "8fb92020",
   "metadata": {},
   "outputs": [],
   "source": [
    "#Library import\n",
    "import numpy as np\n",
    "import pandas as pd\n",
    "import kaggle.cli\n",
    "import tensorflow as tf\n",
    "import sys\n",
    "from sklearn.metrics import mean_squared_error\n",
    "from sklearn.metrics import accuracy_score\n",
    "from sklearn import linear_model\n",
    "from sklearn.model_selection import train_test_split\n",
    "from sklearn.preprocessing import MinMaxScaler\n",
    "from sklearn.preprocessing import StandardScaler\n",
    "from sklearn.preprocessing import LabelEncoder, StandardScaler\n",
    "from sklearn.preprocessing import PolynomialFeatures\n",
    "from sklearn.metrics import mean_squared_error, r2_score\n",
    "from sklearn import metrics\n",
    "import matplotlib.pyplot as plt\n",
    "import seaborn as sns\n",
    "from sklearn.pipeline import Pipeline\n",
    "from sklearn.model_selection import learning_curve\n",
    "from keras.layers import Input, Dense\n",
    "from keras.models import Model\n",
    "from tensorflow import keras\n",
    "from tensorflow.keras.models import Sequential\n",
    "from tensorflow.keras.layers import Dense\n",
    "from tensorflow.keras.wrappers.scikit_learn import KerasRegressor\n",
    "from tensorflow.keras.optimizers import RMSprop\n",
    "from tensorflow.keras.mixed_precision import Policy\n",
    "from sklearn import preprocessing\n",
    "from pathlib import Path\n",
    "from zipfile import ZipFile\n",
    "from IPython.display import display, HTML\n"
   ]
  },
  {
   "cell_type": "code",
   "execution_count": 26,
   "id": "2dc2b0cf",
   "metadata": {},
   "outputs": [],
   "source": [
    "def historyOut(history):\n",
    "    print(history.history.keys())\n",
    "# \"Loss\"\n",
    "    plt.plot(history.history['loss'])\n",
    "    plt.plot(history.history['val_loss'])\n",
    "    plt.title('model loss')\n",
    "    plt.ylabel('loss')\n",
    "    plt.xlabel('epoch')\n",
    "    plt.legend(['train', 'validation'], loc='upper left')\n",
    "    plt.show()\n",
    "    print('Average MSE: ',sum(history.history['mse'])/len(history.history['mse']))\n",
    "    plt.plot(history.history['acc'])\n",
    "    plt.plot(history.history['val_acc'])\n",
    "    plt.title('Model accuracy')\n",
    "    plt.ylabel('Accuracy')\n",
    "    plt.xlabel('Epoch')\n",
    "    plt.legend(['Train', 'Test'], loc='upper left')\n",
    "    plt.show()"
   ]
  },
  {
   "cell_type": "code",
   "execution_count": 27,
   "id": "3897b445",
   "metadata": {},
   "outputs": [
    {
     "name": "stdout",
     "output_type": "stream",
     "text": [
      "Num GPUs Available:  1\n",
      "Device found : [PhysicalDevice(name='/physical_device:GPU:0', device_type='GPU')]\n"
     ]
    },
    {
     "data": {
      "text/plain": [
       "True"
      ]
     },
     "execution_count": 27,
     "metadata": {},
     "output_type": "execute_result"
    }
   ],
   "source": [
    "print(\"Num GPUs Available: \", len(tf.config.experimental.list_physical_devices('GPU')))\n",
    "tf.test.is_built_with_cuda()\n",
    "\n",
    "physical_device = tf.config.experimental.list_physical_devices('GPU')\n",
    "print(f'Device found : {physical_device}')\n",
    "\n",
    "\n",
    "tf.config.experimental.get_memory_growth(physical_device[0])\n",
    "\n",
    "tf.config.experimental.set_memory_growth(physical_device[0],True)\n",
    "\n",
    "\n",
    "tf.config.experimental.get_memory_growth(physical_device[0])"
   ]
  },
  {
   "cell_type": "code",
   "execution_count": 28,
   "id": "bc9a667f",
   "metadata": {},
   "outputs": [
    {
     "data": {
      "text/plain": [
       "'INFO:tensorflow:Mixed precision compatibility check (mixed_float16): OK\\nYour GPU will likely run quickly with dtype policy mixed_float16 as it has \\ncompute capability of at least 7.0. Your GPU: NVIDIA GeForce RTX 2080 Ti, compute capability 7.5'"
      ]
     },
     "execution_count": 28,
     "metadata": {},
     "output_type": "execute_result"
    }
   ],
   "source": [
    "\n",
    "\n",
    "policy = keras.mixed_precision.Policy('mixed_float16')\n",
    "keras.mixed_precision.set_global_policy(policy)\n",
    "\n",
    "\"\"\"INFO:tensorflow:Mixed precision compatibility check (mixed_float16): OK\n",
    "Your GPU will likely run quickly with dtype policy mixed_float16 as it has \n",
    "compute capability of at least 7.0. Your GPU: NVIDIA GeForce RTX 2080 Ti, compute capability 7.5\"\"\""
   ]
  },
  {
   "cell_type": "code",
   "execution_count": 29,
   "id": "01ee124e",
   "metadata": {},
   "outputs": [
    {
     "data": {
      "text/plain": [
       "\"\\n!kaggle datasets download -d austinreese/craigslist-carstrucks-data\\n\\nfile_name = 'craigslist-carstrucks-data.zip' # dataset name\\nwith ZipFile(file_name, 'r') as zip:\\n  zip.extractall()\\n  print('Done')\\n    \\ndata_A = pd.read_csv('vehicles.csv') # file name\\nprint(data_A.shape)\\nprint(data_A.count())\\n\""
      ]
     },
     "execution_count": 29,
     "metadata": {},
     "output_type": "execute_result"
    }
   ],
   "source": [
    "#Uncomment this for submission\n",
    "\n",
    "!kaggle datasets download -d austinreese/craigslist-carstrucks-data\n",
    "\n",
    "file_name = 'craigslist-carstrucks-data.zip' # dataset name\n",
    "with ZipFile(file_name, 'r') as zip:\n",
    "  zip.extractall()\n",
    "  print('Done')\n",
    "    \n",
    "data_A = pd.read_csv('vehicles.csv') # file name\n",
    "print(data_A.shape)\n",
    "print(data_A.count())\n"
   ]
  },
  {
   "cell_type": "code",
   "execution_count": 44,
   "id": "0f3ab9cc",
   "metadata": {},
   "outputs": [
    {
     "name": "stdout",
     "output_type": "stream",
     "text": [
      "(426880, 26)\n",
      "id              426880\n",
      "url             426880\n",
      "region          426880\n",
      "region_url      426880\n",
      "price           426880\n",
      "year            425675\n",
      "manufacturer    409234\n",
      "model           421603\n",
      "condition       252776\n",
      "cylinders       249202\n",
      "fuel            423867\n",
      "odometer        422480\n",
      "title_status    418638\n",
      "transmission    424324\n",
      "VIN             265838\n",
      "drive           296313\n",
      "size            120519\n",
      "type            334022\n",
      "paint_color     296677\n",
      "image_url       426812\n",
      "description     426810\n",
      "county               0\n",
      "state           426880\n",
      "lat             420331\n",
      "long            420331\n",
      "posting_date    426812\n",
      "dtype: int64\n"
     ]
    }
   ],
   "source": [
    "#Delete this before submission\n",
    "\"\"\"\n",
    "data_A = pd.read_csv('C:/Users/Gabriel/Downloads/vehicles.csv') # file name\n",
    "print(data_A.shape)\n",
    "print(data_A.count())\n",
    "\"\"\""
   ]
  },
  {
   "cell_type": "code",
   "execution_count": 45,
   "id": "8ff05a92",
   "metadata": {},
   "outputs": [
    {
     "name": "stderr",
     "output_type": "stream",
     "text": [
      "C:\\Users\\Gabriel\\AppData\\Local\\Temp/ipykernel_10660/2996476342.py:6: FutureWarning: In a future version of pandas all arguments of DataFrame.drop except for the argument 'labels' will be keyword-only\n",
      "  data_A = data_A.drop(field,1)\n"
     ]
    },
    {
     "name": "stdout",
     "output_type": "stream",
     "text": [
      "region          0\n",
      "price           0\n",
      "year            0\n",
      "manufacturer    0\n",
      "model           0\n",
      "condition       0\n",
      "fuel            0\n",
      "odometer        0\n",
      "transmission    0\n",
      "drive           0\n",
      "type            0\n",
      "state           0\n",
      "dtype: int64\n",
      "region          163406\n",
      "price           163406\n",
      "year            163406\n",
      "manufacturer    163406\n",
      "model           163406\n",
      "condition       163406\n",
      "fuel            163406\n",
      "odometer        163406\n",
      "transmission    163406\n",
      "drive           163406\n",
      "type            163406\n",
      "state           163406\n",
      "dtype: int64\n",
      "<class 'pandas.core.frame.DataFrame'>\n",
      "Int64Index: 163406 entries, 31 to 426879\n",
      "Data columns (total 12 columns):\n",
      " #   Column        Non-Null Count   Dtype  \n",
      "---  ------        --------------   -----  \n",
      " 0   region        163406 non-null  object \n",
      " 1   price         163406 non-null  int64  \n",
      " 2   year          163406 non-null  float64\n",
      " 3   manufacturer  163406 non-null  object \n",
      " 4   model         163406 non-null  object \n",
      " 5   condition     163406 non-null  object \n",
      " 6   fuel          163406 non-null  object \n",
      " 7   odometer      163406 non-null  float64\n",
      " 8   transmission  163406 non-null  object \n",
      " 9   drive         163406 non-null  object \n",
      " 10  type          163406 non-null  object \n",
      " 11  state         163406 non-null  object \n",
      "dtypes: float64(2), int64(1), object(9)\n",
      "memory usage: 16.2+ MB\n"
     ]
    }
   ],
   "source": [
    "\n",
    "drop = {'id', 'url', 'size','cylinders','region_url', 'image_url', 'county', 'posting_date', \n",
    "        'description', 'title_status','VIN','lat','long'}\n",
    "\n",
    "for field in drop:\n",
    "    if field in data_A.columns:\n",
    "        data_A = data_A.drop(field,1)\n",
    "\n",
    "data_A = data_A.dropna()\n",
    "\n",
    "print(data_A.isnull().sum()) # see what is missing from data\n",
    "print(data_A.count())\n",
    "\n",
    "data_A.info()"
   ]
  },
  {
   "cell_type": "code",
   "execution_count": 46,
   "id": "dbf1d581",
   "metadata": {},
   "outputs": [],
   "source": [
    "catgFeatures = ['region', 'manufacturer', 'model', 'condition', \n",
    "                 'fuel', 'odometer', 'transmission', \n",
    "                'drive', 'type', 'paint_color', 'state',\n",
    "               ]\n",
    "                #add back to incldue size: 'size',]\n",
    "\n",
    "#Categorical variable encoding\n",
    "for feature in catgFeatures:\n",
    "    featureData = data_A[feature]\n",
    "    featuresEncoded = LabelEncoder().fit_transform(featureData)\n",
    "    data_A[feature] = featuresEncoded\n",
    "    \n",
    "#featureCorrelation = data_A.corr()\n",
    "#sns.heatmap(featureCorrelation, annot=False, vmin=-1, vmax=1, center=0)"
   ]
  },
  {
   "cell_type": "code",
   "execution_count": 47,
   "id": "56609f95",
   "metadata": {},
   "outputs": [
    {
     "name": "stdout",
     "output_type": "stream",
     "text": [
      "        region  price    year  manufacturer  model  condition  fuel  odometer  \\\n",
      "356317     173  28590  2017.0            10   3102          2     4     15192   \n",
      "332485     268  26990  2017.0            30  12089          2     2      9628   \n",
      "195399      49  39590  2020.0            13   8658          2     2       415   \n",
      "329924     135   5900  2012.0             7   3929          2     2     23017   \n",
      "204758     163  40990  2018.0            20  12994          2     2      6016   \n",
      "\n",
      "        transmission  drive  type  state  \n",
      "356317             2      2     3     42  \n",
      "332485             2      0     8     38  \n",
      "195399             2      2     3     22  \n",
      "329924             0      1     9     38  \n",
      "204758             2      0     0     22  \n",
      "MinMaxScaler()\n",
      "MinMaxScaler()\n"
     ]
    }
   ],
   "source": [
    "data_A = data_A.sample(frac=1)\n",
    "X = data_A.values\n",
    "y = data_A['price'].values.reshape(-1,1)\n",
    "\n",
    "print(data_A.head())\n",
    "\n",
    "\n",
    "scaler_x = MinMaxScaler()\n",
    "print(scaler_x.fit(X))\n",
    "scaler_y = MinMaxScaler()\n",
    "print(scaler_y.fit(y))\n",
    "xscale=scaler_x.transform(X)\n",
    "yscale=scaler_y.transform(y)\n"
   ]
  },
  {
   "cell_type": "code",
   "execution_count": 48,
   "id": "9269b3b5",
   "metadata": {},
   "outputs": [],
   "source": [
    "X_train, X_test, y_train, y_test = train_test_split(xscale, yscale)"
   ]
  },
  {
   "cell_type": "markdown",
   "id": "f30df5e9",
   "metadata": {},
   "source": [
    "#### Model 1: Activation = ReLU, Hidden Layers: 1(24 units), 2(32 units)"
   ]
  },
  {
   "cell_type": "code",
   "execution_count": 36,
   "id": "0fe16f14",
   "metadata": {
    "scrolled": true
   },
   "outputs": [
    {
     "name": "stdout",
     "output_type": "stream",
     "text": [
      "Model: \"sequential_2\"\n",
      "_________________________________________________________________\n",
      " Layer (type)                Output Shape              Param #   \n",
      "=================================================================\n",
      " dense_6 (Dense)             (None, 24)                336       \n",
      "                                                                 \n",
      " dense_7 (Dense)             (None, 32)                800       \n",
      "                                                                 \n",
      " dense_8 (Dense)             (None, 1)                 33        \n",
      "                                                                 \n",
      "=================================================================\n",
      "Total params: 1,169\n",
      "Trainable params: 1,169\n",
      "Non-trainable params: 0\n",
      "_________________________________________________________________\n"
     ]
    }
   ],
   "source": [
    "#Activation: ReLU\n",
    "model = Sequential()\n",
    "model.add(Dense(24, input_dim=13, kernel_initializer='normal', activation='relu'))\n",
    "model.add(Dense(32, activation='relu'))\n",
    "model.add(Dense(1, activation='linear'))\n",
    "model.summary()"
   ]
  },
  {
   "cell_type": "code",
   "execution_count": 37,
   "id": "31b24bfa",
   "metadata": {},
   "outputs": [],
   "source": [
    "#ReLU\n",
    "#LEARNING RATE 0.01\n",
    "rms = keras.optimizers.RMSprop(learning_rate=0.00001)\n",
    "\n",
    "model.compile(optimizer=rms, loss='mse',  metrics=['mse','mae','acc'])"
   ]
  },
  {
   "cell_type": "code",
   "execution_count": 38,
   "id": "5c1179a4",
   "metadata": {},
   "outputs": [
    {
     "name": "stdout",
     "output_type": "stream",
     "text": [
      "Epoch 1/2\n",
      "334/334 [==============================] - 2s 5ms/step - loss: 4.6565e-04 - mse: 4.6572e-04 - mae: 0.0166 - acc: 0.0445 - val_loss: 1.7196e-04 - val_mse: 1.7196e-04 - val_mae: 0.0108 - val_acc: 0.0456\n",
      "Epoch 2/2\n",
      "334/334 [==============================] - 1s 4ms/step - loss: 1.1927e-04 - mse: 1.1925e-04 - mae: 0.0084 - acc: 0.0445 - val_loss: 6.3242e-05 - val_mse: 6.3245e-05 - val_mae: 0.0065 - val_acc: 0.0456\n"
     ]
    }
   ],
   "source": [
    "history = model.fit(X_train, y_train, epochs=50, batch_size=256,  verbose=1, validation_split=0.2)"
   ]
  },
  {
   "cell_type": "code",
   "execution_count": 39,
   "id": "53df65ca",
   "metadata": {},
   "outputs": [
    {
     "name": "stdout",
     "output_type": "stream",
     "text": [
      "dict_keys(['loss', 'mse', 'mae', 'acc', 'val_loss', 'val_mse', 'val_mae', 'val_acc'])\n"
     ]
    },
    {
     "data": {
      "image/png": "[encoded data removed]",
      "text/plain": [
       "<Figure size 432x288 with 1 Axes>"
      ]
     },
     "metadata": {
      "needs_background": "light"
     },
     "output_type": "display_data"
    },
    {
     "name": "stdout",
     "output_type": "stream",
     "text": [
      "Average MSE:  0.00029248238570289686\n"
     ]
    },
    {
     "data": {
      "image/png": "[encoded data removed]",
      "text/plain": [
       "<Figure size 432x288 with 1 Axes>"
      ]
     },
     "metadata": {
      "needs_background": "light"
     },
     "output_type": "display_data"
    }
   ],
   "source": [
    "historyOut(history)"
   ]
  },
  {
   "cell_type": "code",
   "execution_count": 15,
   "id": "98ff6386",
   "metadata": {},
   "outputs": [
    {
     "name": "stdout",
     "output_type": "stream",
     "text": [
      "Epoch 1/50\n",
      "334/334 [==============================] - 2s 5ms/step - loss: 1.1028e-05 - mse: 1.1027e-05 - mae: 0.0025 - acc: 0.0445 - val_loss: 6.5259e-07 - val_mse: 6.5312e-07 - val_mae: 7.4717e-04 - val_acc: 0.0469\n",
      "Epoch 2/50\n",
      "334/334 [==============================] - 1s 4ms/step - loss: 4.9686e-07 - mse: 4.9785e-07 - mae: 6.8418e-04 - acc: 0.0445 - val_loss: 4.0702e-07 - val_mse: 4.1942e-07 - val_mae: 6.0902e-04 - val_acc: 0.0469\n",
      "Epoch 3/50\n",
      "334/334 [==============================] - 1s 4ms/step - loss: 3.6908e-07 - mse: 3.6296e-07 - mae: 5.9052e-04 - acc: 0.0445 - val_loss: 4.0702e-07 - val_mse: 4.0733e-07 - val_mae: 5.9977e-04 - val_acc: 0.0469\n",
      "Epoch 4/50\n",
      "334/334 [==============================] - 1s 4ms/step - loss: 3.2683e-07 - mse: 3.3315e-07 - mae: 5.6533e-04 - acc: 0.0445 - val_loss: 3.4741e-07 - val_mse: 3.4593e-07 - val_mae: 5.4590e-04 - val_acc: 0.0469\n",
      "Epoch 5/50\n",
      "334/334 [==============================] - 1s 4ms/step - loss: 3.0946e-07 - mse: 3.0378e-07 - mae: 5.3868e-04 - acc: 0.0445 - val_loss: 3.4741e-07 - val_mse: 3.3212e-07 - val_mae: 5.3304e-04 - val_acc: 0.0469\n",
      "Epoch 6/50\n",
      "334/334 [==============================] - 1s 4ms/step - loss: 2.8459e-07 - mse: 2.8101e-07 - mae: 5.1691e-04 - acc: 0.0445 - val_loss: 2.9139e-07 - val_mse: 2.9529e-07 - val_mae: 4.9402e-04 - val_acc: 0.0469\n",
      "Epoch 7/50\n",
      "334/334 [==============================] - 1s 4ms/step - loss: 2.5239e-07 - mse: 2.6341e-07 - mae: 5.0045e-04 - acc: 0.0445 - val_loss: 2.9139e-07 - val_mse: 2.6409e-07 - val_mae: 4.6136e-04 - val_acc: 0.0469\n",
      "Epoch 8/50\n",
      "334/334 [==============================] - 1s 4ms/step - loss: 2.5363e-07 - mse: 2.6125e-07 - mae: 4.9748e-04 - acc: 0.0445 - val_loss: 2.9139e-07 - val_mse: 2.9931e-07 - val_mae: 4.9807e-04 - val_acc: 0.0469\n",
      "Epoch 9/50\n",
      "334/334 [==============================] - 1s 4ms/step - loss: 2.5345e-07 - mse: 2.6268e-07 - mae: 4.9926e-04 - acc: 0.0445 - val_loss: 2.9139e-07 - val_mse: 2.9884e-07 - val_mae: 4.9760e-04 - val_acc: 0.0469\n",
      "Epoch 10/50\n",
      "334/334 [==============================] - 1s 4ms/step - loss: 2.5291e-07 - mse: 2.6261e-07 - mae: 4.9896e-04 - acc: 0.0445 - val_loss: 2.9139e-07 - val_mse: 3.0169e-07 - val_mae: 5.0046e-04 - val_acc: 0.0469\n",
      "Epoch 11/50\n",
      "334/334 [==============================] - 1s 4ms/step - loss: 2.5363e-07 - mse: 2.6256e-07 - mae: 4.9909e-04 - acc: 0.0445 - val_loss: 2.9139e-07 - val_mse: 3.0074e-07 - val_mae: 4.9950e-04 - val_acc: 0.0469\n",
      "Epoch 12/50\n",
      "334/334 [==============================] - 1s 4ms/step - loss: 2.5381e-07 - mse: 2.6354e-07 - mae: 4.9966e-04 - acc: 0.0445 - val_loss: 2.8781e-07 - val_mse: 2.9786e-07 - val_mae: 4.9966e-04 - val_acc: 0.0469\n",
      "Epoch 13/50\n",
      "334/334 [==============================] - 1s 4ms/step - loss: 2.5327e-07 - mse: 2.6245e-07 - mae: 4.9902e-04 - acc: 0.0445 - val_loss: 2.8781e-07 - val_mse: 2.9976e-07 - val_mae: 5.0157e-04 - val_acc: 0.0469\n",
      "Epoch 14/50\n",
      "334/334 [==============================] - 1s 4ms/step - loss: 2.5291e-07 - mse: 2.6239e-07 - mae: 4.9898e-04 - acc: 0.0445 - val_loss: 2.8781e-07 - val_mse: 2.9644e-07 - val_mae: 4.9823e-04 - val_acc: 0.0469\n",
      "Epoch 15/50\n",
      "334/334 [==============================] - 1s 4ms/step - loss: 2.5346e-07 - mse: 2.6265e-07 - mae: 4.9923e-04 - acc: 0.0445 - val_loss: 2.8781e-07 - val_mse: 3.0742e-07 - val_mae: 5.0920e-04 - val_acc: 0.0469\n",
      "Epoch 16/50\n",
      "334/334 [==============================] - 1s 4ms/step - loss: 2.5363e-07 - mse: 2.6311e-07 - mae: 4.9932e-04 - acc: 0.0445 - val_loss: 2.8781e-07 - val_mse: 3.0214e-07 - val_mae: 5.0395e-04 - val_acc: 0.0469\n",
      "Epoch 17/50\n",
      "334/334 [==============================] - 1s 4ms/step - loss: 2.5309e-07 - mse: 2.6245e-07 - mae: 4.9905e-04 - acc: 0.0445 - val_loss: 2.8781e-07 - val_mse: 2.9597e-07 - val_mae: 4.9776e-04 - val_acc: 0.0469\n",
      "Epoch 18/50\n",
      "334/334 [==============================] - 1s 4ms/step - loss: 2.5309e-07 - mse: 2.6251e-07 - mae: 4.9905e-04 - acc: 0.0445 - val_loss: 2.9139e-07 - val_mse: 3.0313e-07 - val_mae: 5.0189e-04 - val_acc: 0.0469\n",
      "Epoch 19/50\n",
      "334/334 [==============================] - 1s 4ms/step - loss: 2.5364e-07 - mse: 2.6335e-07 - mae: 4.9954e-04 - acc: 0.0445 - val_loss: 2.9139e-07 - val_mse: 3.2016e-07 - val_mae: 5.1858e-04 - val_acc: 0.0469\n",
      "Epoch 20/50\n",
      "334/334 [==============================] - 1s 4ms/step - loss: 2.5327e-07 - mse: 2.6249e-07 - mae: 4.9929e-04 - acc: 0.0445 - val_loss: 2.9139e-07 - val_mse: 3.0313e-07 - val_mae: 5.0189e-04 - val_acc: 0.0469\n",
      "Epoch 21/50\n",
      "334/334 [==============================] - 1s 4ms/step - loss: 2.5345e-07 - mse: 2.6250e-07 - mae: 4.9915e-04 - acc: 0.0445 - val_loss: 2.9139e-07 - val_mse: 2.8550e-07 - val_mae: 4.8401e-04 - val_acc: 0.0469\n",
      "Epoch 22/50\n",
      "334/334 [==============================] - 1s 4ms/step - loss: 2.5381e-07 - mse: 2.6329e-07 - mae: 4.9949e-04 - acc: 0.0445 - val_loss: 2.9139e-07 - val_mse: 3.0265e-07 - val_mae: 5.0141e-04 - val_acc: 0.0469\n",
      "Epoch 23/50\n",
      "334/334 [==============================] - 1s 4ms/step - loss: 2.5363e-07 - mse: 2.6249e-07 - mae: 4.9914e-04 - acc: 0.0445 - val_loss: 2.9139e-07 - val_mse: 2.9271e-07 - val_mae: 4.9140e-04 - val_acc: 0.0469\n",
      "Epoch 24/50\n",
      "334/334 [==============================] - 1s 4ms/step - loss: 2.5363e-07 - mse: 2.6334e-07 - mae: 4.9948e-04 - acc: 0.0445 - val_loss: 2.8781e-07 - val_mse: 2.9833e-07 - val_mae: 5.0014e-04 - val_acc: 0.0469\n",
      "Epoch 25/50\n",
      "334/334 [==============================] - 1s 4ms/step - loss: 2.5381e-07 - mse: 2.6339e-07 - mae: 4.9950e-04 - acc: 0.0445 - val_loss: 2.8781e-07 - val_mse: 2.9881e-07 - val_mae: 5.0062e-04 - val_acc: 0.0469\n",
      "Epoch 26/50\n",
      "334/334 [==============================] - 1s 4ms/step - loss: 2.5345e-07 - mse: 2.6241e-07 - mae: 4.9904e-04 - acc: 0.0445 - val_loss: 2.8781e-07 - val_mse: 2.9881e-07 - val_mae: 5.0062e-04 - val_acc: 0.0469\n",
      "Epoch 27/50\n",
      "334/334 [==============================] - 1s 4ms/step - loss: 2.5291e-07 - mse: 2.6257e-07 - mae: 4.9914e-04 - acc: 0.0445 - val_loss: 2.8781e-07 - val_mse: 2.9976e-07 - val_mae: 5.0157e-04 - val_acc: 0.0469\n",
      "Epoch 28/50\n",
      "334/334 [==============================] - 1s 4ms/step - loss: 2.5327e-07 - mse: 2.6243e-07 - mae: 4.9905e-04 - acc: 0.0445 - val_loss: 2.8781e-07 - val_mse: 3.0262e-07 - val_mae: 5.0443e-04 - val_acc: 0.0469\n",
      "Epoch 29/50\n",
      "334/334 [==============================] - 1s 4ms/step - loss: 2.5363e-07 - mse: 2.6338e-07 - mae: 4.9951e-04 - acc: 0.0445 - val_loss: 2.8781e-07 - val_mse: 2.9691e-07 - val_mae: 4.9871e-04 - val_acc: 0.0469\n",
      "Epoch 30/50\n",
      "334/334 [==============================] - 1s 4ms/step - loss: 2.5363e-07 - mse: 2.6329e-07 - mae: 4.9952e-04 - acc: 0.0445 - val_loss: 2.9139e-07 - val_mse: 3.0457e-07 - val_mae: 5.0332e-04 - val_acc: 0.0469\n",
      "Epoch 31/50\n",
      "334/334 [==============================] - 1s 4ms/step - loss: 2.5363e-07 - mse: 2.6329e-07 - mae: 4.9951e-04 - acc: 0.0445 - val_loss: 2.9139e-07 - val_mse: 3.0217e-07 - val_mae: 5.0093e-04 - val_acc: 0.0469\n",
      "Epoch 32/50\n",
      "334/334 [==============================] - 1s 4ms/step - loss: 2.5364e-07 - mse: 2.6331e-07 - mae: 4.9953e-04 - acc: 0.0445 - val_loss: 2.9139e-07 - val_mse: 3.1769e-07 - val_mae: 5.1619e-04 - val_acc: 0.0469\n",
      "Epoch 33/50\n",
      "334/334 [==============================] - 1s 4ms/step - loss: 2.5381e-07 - mse: 2.6319e-07 - mae: 4.9939e-04 - acc: 0.0445 - val_loss: 2.9139e-07 - val_mse: 3.0169e-07 - val_mae: 5.0046e-04 - val_acc: 0.0469\n",
      "Epoch 34/50\n",
      "334/334 [==============================] - 1s 4ms/step - loss: 2.5291e-07 - mse: 2.6243e-07 - mae: 4.9914e-04 - acc: 0.0445 - val_loss: 2.9139e-07 - val_mse: 3.0217e-07 - val_mae: 5.0093e-04 - val_acc: 0.0469\n",
      "Epoch 35/50\n",
      "334/334 [==============================] - 1s 4ms/step - loss: 2.5327e-07 - mse: 2.6246e-07 - mae: 4.9908e-04 - acc: 0.0445 - val_loss: 2.9139e-07 - val_mse: 2.9084e-07 - val_mae: 4.8949e-04 - val_acc: 0.0469\n",
      "Epoch 36/50\n",
      "334/334 [==============================] - 1s 4ms/step - loss: 2.5291e-07 - mse: 2.6249e-07 - mae: 4.9914e-04 - acc: 0.0445 - val_loss: 2.8781e-07 - val_mse: 2.7746e-07 - val_mae: 4.7868e-04 - val_acc: 0.0469\n",
      "Epoch 37/50\n",
      "334/334 [==============================] - 1s 4ms/step - loss: 2.5363e-07 - mse: 2.6365e-07 - mae: 4.9977e-04 - acc: 0.0445 - val_loss: 2.8781e-07 - val_mse: 2.6077e-07 - val_mae: 4.6080e-04 - val_acc: 0.0469\n",
      "Epoch 38/50\n",
      "334/334 [==============================] - 1s 4ms/step - loss: 2.5417e-07 - mse: 2.6238e-07 - mae: 4.9900e-04 - acc: 0.0445 - val_loss: 2.8781e-07 - val_mse: 3.0118e-07 - val_mae: 5.0300e-04 - val_acc: 0.0469\n",
      "Epoch 39/50\n",
      "334/334 [==============================] - 1s 4ms/step - loss: 2.5293e-07 - mse: 2.6256e-07 - mae: 4.9911e-04 - acc: 0.0445 - val_loss: 2.8852e-07 - val_mse: 3.1569e-07 - val_mae: 5.1730e-04 - val_acc: 0.0469\n",
      "Epoch 40/50\n",
      "334/334 [==============================] - 1s 4ms/step - loss: 2.5363e-07 - mse: 2.6332e-07 - mae: 4.9951e-04 - acc: 0.0445 - val_loss: 2.8781e-07 - val_mse: 2.9881e-07 - val_mae: 5.0062e-04 - val_acc: 0.0469\n",
      "Epoch 41/50\n",
      "334/334 [==============================] - 1s 4ms/step - loss: 2.5345e-07 - mse: 2.6328e-07 - mae: 4.9948e-04 - acc: 0.0445 - val_loss: 2.8781e-07 - val_mse: 3.0549e-07 - val_mae: 5.0729e-04 - val_acc: 0.0469\n",
      "Epoch 42/50\n",
      "334/334 [==============================] - 1s 4ms/step - loss: 2.5309e-07 - mse: 2.6251e-07 - mae: 4.9908e-04 - acc: 0.0445 - val_loss: 2.9139e-07 - val_mse: 3.0361e-07 - val_mae: 5.0236e-04 - val_acc: 0.0469\n",
      "Epoch 43/50\n",
      "334/334 [==============================] - 1s 4ms/step - loss: 2.5381e-07 - mse: 2.6322e-07 - mae: 4.9943e-04 - acc: 0.0445 - val_loss: 2.9139e-07 - val_mse: 2.9884e-07 - val_mae: 4.9760e-04 - val_acc: 0.0469\n",
      "Epoch 44/50\n",
      "334/334 [==============================] - 1s 4ms/step - loss: 2.5327e-07 - mse: 2.6246e-07 - mae: 4.9912e-04 - acc: 0.0445 - val_loss: 2.9139e-07 - val_mse: 3.0217e-07 - val_mae: 5.0093e-04 - val_acc: 0.0469\n",
      "Epoch 45/50\n",
      "334/334 [==============================] - 1s 4ms/step - loss: 2.5435e-07 - mse: 2.6327e-07 - mae: 4.9945e-04 - acc: 0.0445 - val_loss: 2.9139e-07 - val_mse: 3.0265e-07 - val_mae: 5.0141e-04 - val_acc: 0.0469\n",
      "Epoch 46/50\n",
      "334/334 [==============================] - 1s 4ms/step - loss: 2.5345e-07 - mse: 2.6339e-07 - mae: 4.9972e-04 - acc: 0.0445 - val_loss: 2.9139e-07 - val_mse: 3.0122e-07 - val_mae: 4.9998e-04 - val_acc: 0.0469\n",
      "Epoch 47/50\n",
      "334/334 [==============================] - 1s 4ms/step - loss: 2.5239e-07 - mse: 2.6261e-07 - mae: 4.9919e-04 - acc: 0.0445 - val_loss: 3.5099e-07 - val_mse: 3.2663e-07 - val_mae: 5.2478e-04 - val_acc: 0.0469\n",
      "Epoch 48/50\n",
      "334/334 [==============================] - 1s 4ms/step - loss: 2.5381e-07 - mse: 2.6223e-07 - mae: 4.9848e-04 - acc: 0.0445 - val_loss: 2.8781e-07 - val_mse: 3.0071e-07 - val_mae: 5.0252e-04 - val_acc: 0.0469\n",
      "Epoch 49/50\n",
      "334/334 [==============================] - 1s 4ms/step - loss: 2.5327e-07 - mse: 2.6328e-07 - mae: 4.9959e-04 - acc: 0.0445 - val_loss: 2.8781e-07 - val_mse: 2.9833e-07 - val_mae: 5.0014e-04 - val_acc: 0.0469\n",
      "Epoch 50/50\n",
      "334/334 [==============================] - 1s 4ms/step - loss: 2.5381e-07 - mse: 2.6325e-07 - mae: 4.9946e-04 - acc: 0.0445 - val_loss: 2.8781e-07 - val_mse: 2.9597e-07 - val_mae: 4.9776e-04 - val_acc: 0.0469\n"
     ]
    }
   ],
   "source": [
    "#ReLU\n",
    "#LEARNING RATE 0.001\n",
    "rms = keras.optimizers.RMSprop(learning_rate=0.001)\n",
    "\n",
    "model.compile(optimizer=rms, loss='mse',  metrics=['mse','mae','acc'])\n",
    "history = model.fit(X_train, y_train, epochs=50, batch_size=256,  verbose=1, validation_split=0.2)"
   ]
  },
  {
   "cell_type": "code",
   "execution_count": 16,
   "id": "9b5560dc",
   "metadata": {
    "scrolled": true
   },
   "outputs": [
    {
     "name": "stdout",
     "output_type": "stream",
     "text": [
      "dict_keys(['loss', 'mse', 'mae', 'acc', 'val_loss', 'val_mse', 'val_mae', 'val_acc'])\n"
     ]
    },
    {
     "data": {
      "image/png": "[encoded data removed]",
      "text/plain": [
       "<Figure size 432x288 with 1 Axes>"
      ]
     },
     "metadata": {
      "needs_background": "light"
     },
     "output_type": "display_data"
    },
    {
     "name": "stdout",
     "output_type": "stream",
     "text": [
      "Average MSE:  4.874224094919555e-07\n"
     ]
    },
    {
     "data": {
      "image/png": "[encoded data removed]",
      "text/plain": [
       "<Figure size 432x288 with 1 Axes>"
      ]
     },
     "metadata": {
      "needs_background": "light"
     },
     "output_type": "display_data"
    }
   ],
   "source": [
    "historyOut(history)"
   ]
  },
  {
   "cell_type": "code",
   "execution_count": 17,
   "id": "68a5453d",
   "metadata": {},
   "outputs": [
    {
     "name": "stdout",
     "output_type": "stream",
     "text": [
      "Epoch 1/50\n",
      "334/334 [==============================] - 2s 5ms/step - loss: 1.4137e-08 - mse: 1.6229e-08 - mae: 4.5407e-05 - acc: 0.0445 - val_loss: 5.0820e-08 - val_mse: 5.3772e-08 - val_mae: 5.3445e-05 - val_acc: 0.0469\n",
      "Epoch 2/50\n",
      "334/334 [==============================] - 2s 4ms/step - loss: 1.3242e-08 - mse: 1.5590e-08 - mae: 4.7227e-05 - acc: 0.0445 - val_loss: 5.0820e-08 - val_mse: 5.3695e-08 - val_mae: 5.2671e-05 - val_acc: 0.0469\n",
      "Epoch 3/50\n",
      "334/334 [==============================] - 1s 4ms/step - loss: 1.3242e-08 - mse: 1.5582e-08 - mae: 4.7532e-05 - acc: 0.0445 - val_loss: 5.0820e-08 - val_mse: 5.4087e-08 - val_mae: 5.6485e-05 - val_acc: 0.0469\n",
      "Epoch 4/50\n",
      "334/334 [==============================] - 1s 4ms/step - loss: 1.3242e-08 - mse: 1.5599e-08 - mae: 4.7908e-05 - acc: 0.0445 - val_loss: 5.0820e-08 - val_mse: 5.3654e-08 - val_mae: 5.2253e-05 - val_acc: 0.0469\n",
      "Epoch 5/50\n",
      "334/334 [==============================] - 1s 4ms/step - loss: 1.3242e-08 - mse: 1.5581e-08 - mae: 4.7148e-05 - acc: 0.0445 - val_loss: 5.1535e-08 - val_mse: 5.3909e-08 - val_mae: 5.1693e-05 - val_acc: 0.0469\n",
      "Epoch 6/50\n",
      "334/334 [==============================] - 1s 4ms/step - loss: 1.3242e-08 - mse: 1.5591e-08 - mae: 4.7353e-05 - acc: 0.0445 - val_loss: 5.0820e-08 - val_mse: 5.3778e-08 - val_mae: 5.3505e-05 - val_acc: 0.0469\n",
      "Epoch 7/50\n",
      "334/334 [==============================] - 1s 4ms/step - loss: 1.3242e-08 - mse: 1.5568e-08 - mae: 4.7503e-05 - acc: 0.0445 - val_loss: 5.1535e-08 - val_mse: 5.3394e-08 - val_mae: 4.6448e-05 - val_acc: 0.0469\n",
      "Epoch 8/50\n",
      "334/334 [==============================] - 1s 4ms/step - loss: 1.3242e-08 - mse: 1.5602e-08 - mae: 4.7131e-05 - acc: 0.0445 - val_loss: 5.0820e-08 - val_mse: 5.3113e-08 - val_mae: 4.6413e-05 - val_acc: 0.0469\n",
      "Epoch 9/50\n",
      "334/334 [==============================] - 1s 4ms/step - loss: 1.3242e-08 - mse: 1.5568e-08 - mae: 4.6526e-05 - acc: 0.0445 - val_loss: 5.0820e-08 - val_mse: 5.3683e-08 - val_mae: 5.2551e-05 - val_acc: 0.0469\n",
      "Epoch 10/50\n",
      "334/334 [==============================] - 1s 4ms/step - loss: 1.3242e-08 - mse: 1.5582e-08 - mae: 4.7546e-05 - acc: 0.0445 - val_loss: 5.1535e-08 - val_mse: 5.3593e-08 - val_mae: 4.8534e-05 - val_acc: 0.0469\n",
      "Epoch 11/50\n",
      "334/334 [==============================] - 1s 4ms/step - loss: 1.3063e-08 - mse: 1.5536e-08 - mae: 4.8004e-05 - acc: 0.0445 - val_loss: 5.1535e-08 - val_mse: 5.3824e-08 - val_mae: 5.0859e-05 - val_acc: 0.0469\n",
      "Epoch 12/50\n",
      "334/334 [==============================] - 1s 4ms/step - loss: 1.3063e-08 - mse: 1.5526e-08 - mae: 4.7607e-05 - acc: 0.0445 - val_loss: 5.0820e-08 - val_mse: 5.3671e-08 - val_mae: 5.2432e-05 - val_acc: 0.0469\n",
      "Epoch 13/50\n",
      "334/334 [==============================] - 1s 4ms/step - loss: 1.3242e-08 - mse: 1.5600e-08 - mae: 4.8387e-05 - acc: 0.0445 - val_loss: 5.0820e-08 - val_mse: 5.1637e-08 - val_mae: 2.3116e-05 - val_acc: 0.0469\n",
      "Epoch 14/50\n",
      "334/334 [==============================] - 1s 4ms/step - loss: 1.3063e-08 - mse: 1.5539e-08 - mae: 4.7900e-05 - acc: 0.0445 - val_loss: 5.0820e-08 - val_mse: 5.3464e-08 - val_mae: 5.0287e-05 - val_acc: 0.0469\n",
      "Epoch 15/50\n",
      "334/334 [==============================] - 1s 4ms/step - loss: 1.3063e-08 - mse: 1.5531e-08 - mae: 4.8062e-05 - acc: 0.0445 - val_loss: 5.0820e-08 - val_mse: 5.4388e-08 - val_mae: 5.9226e-05 - val_acc: 0.0469\n",
      "Epoch 16/50\n",
      "334/334 [==============================] - 1s 4ms/step - loss: 1.3242e-08 - mse: 1.5587e-08 - mae: 4.7205e-05 - acc: 0.0445 - val_loss: 5.1535e-08 - val_mse: 5.4046e-08 - val_mae: 5.3005e-05 - val_acc: 0.0469\n",
      "Epoch 17/50\n",
      "334/334 [==============================] - 1s 4ms/step - loss: 1.3242e-08 - mse: 1.5561e-08 - mae: 4.7359e-05 - acc: 0.0445 - val_loss: 5.1535e-08 - val_mse: 5.4085e-08 - val_mae: 5.3362e-05 - val_acc: 0.0469\n",
      "Epoch 18/50\n",
      "334/334 [==============================] - 1s 4ms/step - loss: 1.3242e-08 - mse: 1.5605e-08 - mae: 4.7336e-05 - acc: 0.0445 - val_loss: 5.1535e-08 - val_mse: 5.2255e-08 - val_mae: 3.1904e-05 - val_acc: 0.0469\n",
      "Epoch 19/50\n",
      "334/334 [==============================] - 1s 4ms/step - loss: 1.3063e-08 - mse: 1.5523e-08 - mae: 4.7730e-05 - acc: 0.0445 - val_loss: 5.0820e-08 - val_mse: 5.3718e-08 - val_mae: 5.2909e-05 - val_acc: 0.0469\n",
      "Epoch 20/50\n",
      "334/334 [==============================] - 1s 4ms/step - loss: 1.3242e-08 - mse: 1.5578e-08 - mae: 4.7250e-05 - acc: 0.0445 - val_loss: 5.1535e-08 - val_mse: 5.3818e-08 - val_mae: 5.0799e-05 - val_acc: 0.0469\n",
      "Epoch 21/50\n",
      "334/334 [==============================] - 1s 4ms/step - loss: 1.3063e-08 - mse: 1.5531e-08 - mae: 4.7965e-05 - acc: 0.0445 - val_loss: 5.1535e-08 - val_mse: 5.2744e-08 - val_mae: 3.8819e-05 - val_acc: 0.0469\n",
      "Epoch 22/50\n",
      "334/334 [==============================] - 1s 4ms/step - loss: 1.3242e-08 - mse: 1.5580e-08 - mae: 4.6934e-05 - acc: 0.0445 - val_loss: 5.1535e-08 - val_mse: 5.3651e-08 - val_mae: 4.9130e-05 - val_acc: 0.0469\n",
      "Epoch 23/50\n",
      "334/334 [==============================] - 1s 4ms/step - loss: 1.3242e-08 - mse: 1.5585e-08 - mae: 4.7232e-05 - acc: 0.0445 - val_loss: 5.0820e-08 - val_mse: 5.3414e-08 - val_mae: 4.9750e-05 - val_acc: 0.0469\n",
      "Epoch 24/50\n",
      "334/334 [==============================] - 1s 4ms/step - loss: 1.3063e-08 - mse: 1.5541e-08 - mae: 4.7709e-05 - acc: 0.0445 - val_loss: 5.0820e-08 - val_mse: 5.3572e-08 - val_mae: 5.1419e-05 - val_acc: 0.0469\n",
      "Epoch 25/50\n",
      "334/334 [==============================] - 1s 4ms/step - loss: 1.3063e-08 - mse: 1.5541e-08 - mae: 4.7912e-05 - acc: 0.0445 - val_loss: 5.1535e-08 - val_mse: 5.4686e-08 - val_mae: 5.8727e-05 - val_acc: 0.0469\n",
      "Epoch 26/50\n",
      "334/334 [==============================] - 1s 4ms/step - loss: 1.3242e-08 - mse: 1.5592e-08 - mae: 4.7410e-05 - acc: 0.0445 - val_loss: 5.0820e-08 - val_mse: 5.3408e-08 - val_mae: 4.9691e-05 - val_acc: 0.0469\n",
      "Epoch 27/50\n",
      "334/334 [==============================] - 1s 4ms/step - loss: 1.3063e-08 - mse: 1.5542e-08 - mae: 4.7948e-05 - acc: 0.0445 - val_loss: 5.0820e-08 - val_mse: 5.4158e-08 - val_mae: 5.7140e-05 - val_acc: 0.0469\n",
      "Epoch 28/50\n",
      "334/334 [==============================] - 1s 4ms/step - loss: 1.3242e-08 - mse: 1.5600e-08 - mae: 4.7771e-05 - acc: 0.0445 - val_loss: 5.0820e-08 - val_mse: 5.3453e-08 - val_mae: 5.0167e-05 - val_acc: 0.0469\n",
      "Epoch 29/50\n",
      "334/334 [==============================] - 1s 4ms/step - loss: 1.3242e-08 - mse: 1.5610e-08 - mae: 4.8914e-05 - acc: 0.0445 - val_loss: 5.1535e-08 - val_mse: 5.3885e-08 - val_mae: 5.1455e-05 - val_acc: 0.0469\n",
      "Epoch 30/50\n",
      "334/334 [==============================] - 1s 4ms/step - loss: 1.3063e-08 - mse: 1.5533e-08 - mae: 4.8110e-05 - acc: 0.0445 - val_loss: 5.1535e-08 - val_mse: 5.3878e-08 - val_mae: 5.1395e-05 - val_acc: 0.0469\n",
      "Epoch 31/50\n",
      "334/334 [==============================] - 1s 4ms/step - loss: 1.3242e-08 - mse: 1.5573e-08 - mae: 4.7847e-05 - acc: 0.0445 - val_loss: 5.1535e-08 - val_mse: 5.4472e-08 - val_mae: 5.6879e-05 - val_acc: 0.0469\n",
      "Epoch 32/50\n",
      "334/334 [==============================] - 1s 4ms/step - loss: 1.3242e-08 - mse: 1.5610e-08 - mae: 4.7903e-05 - acc: 0.0445 - val_loss: 5.0820e-08 - val_mse: 5.1943e-08 - val_mae: 2.9666e-05 - val_acc: 0.0469\n",
      "Epoch 33/50\n",
      "334/334 [==============================] - 1s 4ms/step - loss: 1.3242e-08 - mse: 1.5582e-08 - mae: 4.7570e-05 - acc: 0.0445 - val_loss: 5.1535e-08 - val_mse: 5.3854e-08 - val_mae: 5.1157e-05 - val_acc: 0.0469\n",
      "Epoch 34/50\n",
      "334/334 [==============================] - 1s 4ms/step - loss: 1.3242e-08 - mse: 1.5582e-08 - mae: 4.7510e-05 - acc: 0.0445 - val_loss: 5.1535e-08 - val_mse: 5.4078e-08 - val_mae: 5.3303e-05 - val_acc: 0.0469\n",
      "Epoch 35/50\n",
      "334/334 [==============================] - 1s 4ms/step - loss: 1.3242e-08 - mse: 1.5594e-08 - mae: 4.7671e-05 - acc: 0.0445 - val_loss: 5.1535e-08 - val_mse: 5.3940e-08 - val_mae: 5.1991e-05 - val_acc: 0.0469\n",
      "Epoch 36/50\n",
      "334/334 [==============================] - 1s 4ms/step - loss: 1.3242e-08 - mse: 1.5601e-08 - mae: 4.8070e-05 - acc: 0.0445 - val_loss: 5.1535e-08 - val_mse: 5.3848e-08 - val_mae: 5.1097e-05 - val_acc: 0.0469\n",
      "Epoch 37/50\n",
      "334/334 [==============================] - 1s 4ms/step - loss: 1.3063e-08 - mse: 1.5532e-08 - mae: 4.7809e-05 - acc: 0.0445 - val_loss: 5.0820e-08 - val_mse: 5.3572e-08 - val_mae: 5.1419e-05 - val_acc: 0.0469\n",
      "Epoch 38/50\n",
      "334/334 [==============================] - 1s 4ms/step - loss: 1.3063e-08 - mse: 1.5496e-08 - mae: 4.7309e-05 - acc: 0.0445 - val_loss: 5.1535e-08 - val_mse: 5.7383e-08 - val_mae: 7.8396e-05 - val_acc: 0.0469\n",
      "Epoch 39/50\n",
      "334/334 [==============================] - 1s 4ms/step - loss: 1.3063e-08 - mse: 1.5550e-08 - mae: 4.7293e-05 - acc: 0.0445 - val_loss: 5.0820e-08 - val_mse: 5.3863e-08 - val_mae: 5.4339e-05 - val_acc: 0.0469\n",
      "Epoch 40/50\n",
      "334/334 [==============================] - 1s 4ms/step - loss: 1.3242e-08 - mse: 1.5601e-08 - mae: 4.7673e-05 - acc: 0.0445 - val_loss: 5.0820e-08 - val_mse: 5.3900e-08 - val_mae: 5.4697e-05 - val_acc: 0.0469\n",
      "Epoch 41/50\n",
      "334/334 [==============================] - 1s 4ms/step - loss: 1.3242e-08 - mse: 1.5587e-08 - mae: 4.7710e-05 - acc: 0.0445 - val_loss: 5.0820e-08 - val_mse: 5.3566e-08 - val_mae: 5.1359e-05 - val_acc: 0.0469\n",
      "Epoch 42/50\n",
      "334/334 [==============================] - 1s 4ms/step - loss: 1.3063e-08 - mse: 1.5554e-08 - mae: 4.8442e-05 - acc: 0.0445 - val_loss: 5.0820e-08 - val_mse: 5.3255e-08 - val_mae: 4.8022e-05 - val_acc: 0.0469\n",
      "Epoch 43/50\n",
      "334/334 [==============================] - 1s 4ms/step - loss: 1.3063e-08 - mse: 1.5532e-08 - mae: 4.7775e-05 - acc: 0.0445 - val_loss: 5.1535e-08 - val_mse: 5.3633e-08 - val_mae: 4.8951e-05 - val_acc: 0.0469\n",
      "Epoch 44/50\n",
      "334/334 [==============================] - 1s 4ms/step - loss: 1.3242e-08 - mse: 1.5584e-08 - mae: 4.7356e-05 - acc: 0.0445 - val_loss: 5.1535e-08 - val_mse: 5.2940e-08 - val_mae: 4.1262e-05 - val_acc: 0.0469\n",
      "Epoch 45/50\n",
      "334/334 [==============================] - 1s 4ms/step - loss: 1.3242e-08 - mse: 1.5591e-08 - mae: 4.7606e-05 - acc: 0.0445 - val_loss: 5.0820e-08 - val_mse: 5.3724e-08 - val_mae: 5.2969e-05 - val_acc: 0.0469\n",
      "Epoch 46/50\n",
      "334/334 [==============================] - 1s 4ms/step - loss: 1.3063e-08 - mse: 1.5553e-08 - mae: 4.8488e-05 - acc: 0.0445 - val_loss: 5.1535e-08 - val_mse: 5.3372e-08 - val_mae: 4.6210e-05 - val_acc: 0.0469\n",
      "Epoch 47/50\n",
      "334/334 [==============================] - 1s 4ms/step - loss: 1.3063e-08 - mse: 1.5559e-08 - mae: 4.7982e-05 - acc: 0.0445 - val_loss: 5.1535e-08 - val_mse: 5.3657e-08 - val_mae: 4.9190e-05 - val_acc: 0.0469\n",
      "Epoch 48/50\n",
      "334/334 [==============================] - 1s 4ms/step - loss: 1.3063e-08 - mse: 1.5536e-08 - mae: 4.8206e-05 - acc: 0.0445 - val_loss: 5.1535e-08 - val_mse: 5.3836e-08 - val_mae: 5.0978e-05 - val_acc: 0.0469\n",
      "Epoch 49/50\n",
      "334/334 [==============================] - 1s 4ms/step - loss: 1.3242e-08 - mse: 1.5595e-08 - mae: 4.8554e-05 - acc: 0.0445 - val_loss: 5.1535e-08 - val_mse: 5.1238e-08 - val_mae: 4.5341e-06 - val_acc: 0.0469\n",
      "Epoch 50/50\n",
      "334/334 [==============================] - 1s 4ms/step - loss: 1.3063e-08 - mse: 1.5589e-08 - mae: 4.8614e-05 - acc: 0.0445 - val_loss: 5.1535e-08 - val_mse: 5.1242e-08 - val_mae: 4.3193e-06 - val_acc: 0.0469\n"
     ]
    }
   ],
   "source": [
    "#ReLU\n",
    "#LEARNING RATE 0.0001\n",
    "rms = keras.optimizers.RMSprop(learning_rate=0.0001)\n",
    "\n",
    "model.compile(optimizer=rms, loss='mse',  metrics=['mse','mae','acc'])\n",
    "history = model.fit(X_train, y_train, epochs=50, batch_size=256,  verbose=1, validation_split=0.2)"
   ]
  },
  {
   "cell_type": "code",
   "execution_count": 18,
   "id": "359cd91e",
   "metadata": {},
   "outputs": [
    {
     "name": "stdout",
     "output_type": "stream",
     "text": [
      "dict_keys(['loss', 'mse', 'mae', 'acc', 'val_loss', 'val_mse', 'val_mae', 'val_acc'])\n"
     ]
    },
    {
     "data": {
      "image/png": "[encoded data removed]",
      "text/plain": [
       "<Figure size 432x288 with 1 Axes>"
      ]
     },
     "metadata": {
      "needs_background": "light"
     },
     "output_type": "display_data"
    },
    {
     "name": "stdout",
     "output_type": "stream",
     "text": [
      "Average MSE:  1.558265179113505e-08\n"
     ]
    },
    {
     "data": {
      "image/png": "[encoded data removed]",
      "text/plain": [
       "<Figure size 432x288 with 1 Axes>"
      ]
     },
     "metadata": {
      "needs_background": "light"
     },
     "output_type": "display_data"
    }
   ],
   "source": [
    "historyOut(history)"
   ]
  },
  {
   "cell_type": "markdown",
   "id": "910af2c2",
   "metadata": {},
   "source": [
    "## Model 2: Activation = tanh, Hidden Layers: 1(24 units), 2(32 units)"
   ]
  },
  {
   "cell_type": "code",
   "execution_count": 19,
   "id": "6619e96e",
   "metadata": {},
   "outputs": [
    {
     "name": "stdout",
     "output_type": "stream",
     "text": [
      "Model: \"sequential_1\"\n",
      "_________________________________________________________________\n",
      " Layer (type)                Output Shape              Param #   \n",
      "=================================================================\n",
      " dense_3 (Dense)             (None, 12)                168       \n",
      "                                                                 \n",
      " dense_4 (Dense)             (None, 8)                 104       \n",
      "                                                                 \n",
      " dense_5 (Dense)             (None, 1)                 9         \n",
      "                                                                 \n",
      "=================================================================\n",
      "Total params: 281\n",
      "Trainable params: 281\n",
      "Non-trainable params: 0\n",
      "_________________________________________________________________\n"
     ]
    }
   ],
   "source": [
    "#Activation: tanh\n",
    "model2 = Sequential()\n",
    "model2.add(Dense(24, input_dim=13, kernel_initializer='normal', activation='tanh'))\n",
    "model2.add(Dense(32, activation='tanh'))\n",
    "model2.add(Dense(1, activation='linear'))\n",
    "model2.summary()"
   ]
  },
  {
   "cell_type": "code",
   "execution_count": 20,
   "id": "06aa3097",
   "metadata": {},
   "outputs": [
    {
     "name": "stdout",
     "output_type": "stream",
     "text": [
      "Epoch 1/50\n",
      "334/334 [==============================] - 2s 5ms/step - loss: 0.0032 - mse: 0.0032 - mae: 0.0231 - acc: 0.0445 - val_loss: 2.4135e-05 - val_mse: 2.4138e-05 - val_mae: 0.0042 - val_acc: 0.0469\n",
      "Epoch 2/50\n",
      "334/334 [==============================] - 1s 4ms/step - loss: 4.1843e-04 - mse: 4.1844e-04 - mae: 0.0115 - acc: 0.0445 - val_loss: 7.3138e-06 - val_mse: 7.3116e-06 - val_mae: 0.0021 - val_acc: 0.0469\n",
      "Epoch 3/50\n",
      "334/334 [==============================] - 1s 4ms/step - loss: 1.6728e-04 - mse: 1.6730e-04 - mae: 0.0067 - acc: 0.0445 - val_loss: 1.7294e-04 - val_mse: 1.7296e-04 - val_mae: 0.0131 - val_acc: 0.0469\n",
      "Epoch 4/50\n",
      "334/334 [==============================] - 1s 4ms/step - loss: 8.0054e-05 - mse: 8.0054e-05 - mae: 0.0051 - acc: 0.0445 - val_loss: 2.8781e-07 - val_mse: 2.8109e-07 - val_mae: 4.6447e-04 - val_acc: 0.0469\n",
      "Epoch 5/50\n",
      "334/334 [==============================] - 1s 4ms/step - loss: 4.8107e-05 - mse: 4.8109e-05 - mae: 0.0042 - acc: 0.0445 - val_loss: 5.4399e-08 - val_mse: 8.0842e-08 - val_mae: 1.3999e-04 - val_acc: 0.0469\n",
      "Epoch 6/50\n",
      "334/334 [==============================] - 1s 4ms/step - loss: 3.6406e-05 - mse: 3.6405e-05 - mae: 0.0041 - acc: 0.0445 - val_loss: 1.1114e-07 - val_mse: 9.4920e-08 - val_mae: 1.8116e-04 - val_acc: 0.0469\n",
      "Epoch 7/50\n",
      "334/334 [==============================] - 1s 4ms/step - loss: 3.2671e-05 - mse: 3.2667e-05 - mae: 0.0040 - acc: 0.0445 - val_loss: 7.8612e-06 - val_mse: 7.8500e-06 - val_mae: 0.0028 - val_acc: 0.0469\n",
      "Epoch 8/50\n",
      "334/334 [==============================] - 1s 4ms/step - loss: 3.9066e-05 - mse: 3.9063e-05 - mae: 0.0042 - acc: 0.0445 - val_loss: 4.3774e-06 - val_mse: 4.3755e-06 - val_mae: 0.0021 - val_acc: 0.0469\n",
      "Epoch 9/50\n",
      "334/334 [==============================] - 1s 4ms/step - loss: 3.2223e-05 - mse: 3.2224e-05 - mae: 0.0041 - acc: 0.0445 - val_loss: 5.5865e-05 - val_mse: 5.5871e-05 - val_mae: 0.0075 - val_acc: 0.0469\n",
      "Epoch 10/50\n",
      "334/334 [==============================] - 1s 4ms/step - loss: 3.6348e-05 - mse: 3.6346e-05 - mae: 0.0041 - acc: 0.0445 - val_loss: 5.1535e-08 - val_mse: 6.1902e-08 - val_mae: 8.2210e-05 - val_acc: 0.0469\n",
      "Epoch 11/50\n",
      "334/334 [==============================] - 1s 4ms/step - loss: 3.4865e-05 - mse: 3.4870e-05 - mae: 0.0040 - acc: 0.0445 - val_loss: 7.0933e-07 - val_mse: 6.9651e-07 - val_mae: 8.0045e-04 - val_acc: 0.0469\n",
      "Epoch 12/50\n",
      "334/334 [==============================] - 1s 4ms/step - loss: 3.6491e-05 - mse: 3.6492e-05 - mae: 0.0044 - acc: 0.0445 - val_loss: 6.5051e-05 - val_mse: 6.5051e-05 - val_mae: 0.0080 - val_acc: 0.0469\n",
      "Epoch 13/50\n",
      "334/334 [==============================] - 1s 4ms/step - loss: 3.8626e-05 - mse: 3.8627e-05 - mae: 0.0039 - acc: 0.0445 - val_loss: 2.2892e-07 - val_mse: 2.2811e-07 - val_mae: 4.2346e-04 - val_acc: 0.0469\n",
      "Epoch 14/50\n",
      "334/334 [==============================] - 1s 4ms/step - loss: 3.5776e-05 - mse: 3.5778e-05 - mae: 0.0043 - acc: 0.0445 - val_loss: 6.9968e-06 - val_mse: 6.9969e-06 - val_mae: 0.0026 - val_acc: 0.0469\n",
      "Epoch 15/50\n",
      "334/334 [==============================] - 1s 4ms/step - loss: 3.2846e-05 - mse: 3.2849e-05 - mae: 0.0040 - acc: 0.0445 - val_loss: 7.6965e-07 - val_mse: 7.8728e-07 - val_mae: 8.5778e-04 - val_acc: 0.0469\n",
      "Epoch 16/50\n",
      "334/334 [==============================] - 1s 4ms/step - loss: 3.7072e-05 - mse: 3.7072e-05 - mae: 0.0043 - acc: 0.0445 - val_loss: 2.3107e-07 - val_mse: 2.3230e-07 - val_mae: 4.1907e-04 - val_acc: 0.0469\n",
      "Epoch 17/50\n",
      "334/334 [==============================] - 1s 4ms/step - loss: 3.5397e-05 - mse: 3.5398e-05 - mae: 0.0041 - acc: 0.0445 - val_loss: 1.6931e-07 - val_mse: 1.4949e-07 - val_mae: 3.1544e-04 - val_acc: 0.0469\n",
      "Epoch 18/50\n",
      "334/334 [==============================] - 1s 4ms/step - loss: 3.5063e-05 - mse: 3.5065e-05 - mae: 0.0039 - acc: 0.0445 - val_loss: 1.4463e-05 - val_mse: 1.4456e-05 - val_mae: 0.0038 - val_acc: 0.0469\n",
      "Epoch 19/50\n",
      "334/334 [==============================] - 1s 4ms/step - loss: 3.3973e-05 - mse: 3.3975e-05 - mae: 0.0040 - acc: 0.0445 - val_loss: 8.8314e-07 - val_mse: 8.7882e-07 - val_mae: 9.1263e-04 - val_acc: 0.0469\n",
      "Epoch 20/50\n",
      "334/334 [==============================] - 1s 4ms/step - loss: 3.5270e-05 - mse: 3.5274e-05 - mae: 0.0042 - acc: 0.0445 - val_loss: 1.6931e-07 - val_mse: 1.7390e-07 - val_mae: 3.4963e-04 - val_acc: 0.0469\n",
      "Epoch 21/50\n",
      "334/334 [==============================] - 1s 4ms/step - loss: 3.3101e-05 - mse: 3.3100e-05 - mae: 0.0042 - acc: 0.0445 - val_loss: 3.0245e-05 - val_mse: 3.0269e-05 - val_mae: 0.0055 - val_acc: 0.0469\n",
      "Epoch 22/50\n",
      "334/334 [==============================] - 1s 4ms/step - loss: 3.6426e-05 - mse: 3.6425e-05 - mae: 0.0045 - acc: 0.0445 - val_loss: 2.8197e-05 - val_mse: 2.8160e-05 - val_mae: 0.0053 - val_acc: 0.0469\n",
      "Epoch 23/50\n",
      "334/334 [==============================] - 1s 4ms/step - loss: 3.6809e-05 - mse: 3.6806e-05 - mae: 0.0039 - acc: 0.0445 - val_loss: 2.9139e-07 - val_mse: 2.9928e-07 - val_mae: 4.9766e-04 - val_acc: 0.0469\n",
      "Epoch 24/50\n",
      "334/334 [==============================] - 1s 4ms/step - loss: 3.3291e-05 - mse: 3.3292e-05 - mae: 0.0042 - acc: 0.0445 - val_loss: 5.2789e-05 - val_mse: 5.2802e-05 - val_mae: 0.0073 - val_acc: 0.0469\n",
      "Epoch 25/50\n",
      "334/334 [==============================] - 1s 4ms/step - loss: 3.6976e-05 - mse: 3.6977e-05 - mae: 0.0040 - acc: 0.0445 - val_loss: 2.7833e-05 - val_mse: 2.7833e-05 - val_mae: 0.0053 - val_acc: 0.0469\n",
      "Epoch 26/50\n",
      "334/334 [==============================] - 1s 4ms/step - loss: 3.7918e-05 - mse: 3.7917e-05 - mae: 0.0042 - acc: 0.0445 - val_loss: 5.9155e-05 - val_mse: 5.9148e-05 - val_mae: 0.0077 - val_acc: 0.0469\n",
      "Epoch 27/50\n",
      "334/334 [==============================] - 1s 4ms/step - loss: 3.5616e-05 - mse: 3.5618e-05 - mae: 0.0044 - acc: 0.0445 - val_loss: 4.0702e-07 - val_mse: 3.9800e-07 - val_mae: 5.9142e-04 - val_acc: 0.0469\n",
      "Epoch 28/50\n",
      "334/334 [==============================] - 1s 4ms/step - loss: 3.2216e-05 - mse: 3.2217e-05 - mae: 0.0039 - acc: 0.0445 - val_loss: 5.4028e-05 - val_mse: 5.4027e-05 - val_mae: 0.0073 - val_acc: 0.0469\n",
      "Epoch 29/50\n",
      "334/334 [==============================] - 1s 4ms/step - loss: 3.5976e-05 - mse: 3.5977e-05 - mae: 0.0045 - acc: 0.0445 - val_loss: 1.5147e-05 - val_mse: 1.5138e-05 - val_mae: 0.0039 - val_acc: 0.0469\n",
      "Epoch 30/50\n",
      "334/334 [==============================] - 1s 4ms/step - loss: 3.6531e-05 - mse: 3.6529e-05 - mae: 0.0043 - acc: 0.0445 - val_loss: 5.3628e-06 - val_mse: 5.3551e-06 - val_mae: 0.0023 - val_acc: 0.0469\n",
      "Epoch 31/50\n",
      "334/334 [==============================] - 1s 4ms/step - loss: 3.6470e-05 - mse: 3.6468e-05 - mae: 0.0040 - acc: 0.0445 - val_loss: 5.1535e-08 - val_mse: 6.5144e-08 - val_mae: 9.8139e-05 - val_acc: 0.0469\n",
      "Epoch 32/50\n",
      "334/334 [==============================] - 1s 4ms/step - loss: 4.1430e-05 - mse: 4.1423e-05 - mae: 0.0042 - acc: 0.0445 - val_loss: 1.1114e-07 - val_mse: 1.0914e-07 - val_mae: 1.9381e-04 - val_acc: 0.0469\n",
      "Epoch 33/50\n",
      "334/334 [==============================] - 1s 4ms/step - loss: 3.6779e-05 - mse: 3.6780e-05 - mae: 0.0039 - acc: 0.0445 - val_loss: 5.0820e-08 - val_mse: 5.6151e-08 - val_mae: 5.8776e-05 - val_acc: 0.0469\n",
      "Epoch 34/50\n",
      "334/334 [==============================] - 1s 4ms/step - loss: 3.3372e-05 - mse: 3.3372e-05 - mae: 0.0040 - acc: 0.0445 - val_loss: 2.4399e-05 - val_mse: 2.4398e-05 - val_mae: 0.0049 - val_acc: 0.0469\n",
      "Epoch 35/50\n",
      "334/334 [==============================] - 1s 4ms/step - loss: 3.5746e-05 - mse: 3.5745e-05 - mae: 0.0042 - acc: 0.0445 - val_loss: 9.9044e-05 - val_mse: 9.9051e-05 - val_mae: 0.0099 - val_acc: 0.0469\n",
      "Epoch 36/50\n",
      "334/334 [==============================] - 1s 4ms/step - loss: 3.2650e-05 - mse: 3.2650e-05 - mae: 0.0040 - acc: 0.0445 - val_loss: 1.1042e-07 - val_mse: 1.1256e-07 - val_mae: 2.4975e-04 - val_acc: 0.0469\n",
      "Epoch 37/50\n",
      "334/334 [==============================] - 1s 4ms/step - loss: 3.5925e-05 - mse: 3.5926e-05 - mae: 0.0040 - acc: 0.0445 - val_loss: 1.2940e-05 - val_mse: 1.2942e-05 - val_mae: 0.0036 - val_acc: 0.0469\n",
      "Epoch 38/50\n",
      "334/334 [==============================] - 1s 4ms/step - loss: 4.1217e-05 - mse: 4.1216e-05 - mae: 0.0045 - acc: 0.0445 - val_loss: 6.0199e-05 - val_mse: 6.0207e-05 - val_mae: 0.0078 - val_acc: 0.0469\n",
      "Epoch 39/50\n",
      "334/334 [==============================] - 1s 4ms/step - loss: 3.2685e-05 - mse: 3.2684e-05 - mae: 0.0041 - acc: 0.0445 - val_loss: 9.8763e-06 - val_mse: 9.8854e-06 - val_mae: 0.0031 - val_acc: 0.0469\n",
      "Epoch 40/50\n",
      "334/334 [==============================] - 1s 4ms/step - loss: 3.6670e-05 - mse: 3.6667e-05 - mae: 0.0041 - acc: 0.0445 - val_loss: 2.4875e-06 - val_mse: 2.4832e-06 - val_mae: 0.0016 - val_acc: 0.0469\n",
      "Epoch 41/50\n",
      "334/334 [==============================] - 1s 4ms/step - loss: 3.4831e-05 - mse: 3.4832e-05 - mae: 0.0042 - acc: 0.0445 - val_loss: 1.2309e-04 - val_mse: 1.2308e-04 - val_mae: 0.0111 - val_acc: 0.0469\n",
      "Epoch 42/50\n",
      "334/334 [==============================] - 1s 4ms/step - loss: 3.5762e-05 - mse: 3.5762e-05 - mae: 0.0044 - acc: 0.0445 - val_loss: 1.0971e-07 - val_mse: 1.2106e-07 - val_mae: 2.6657e-04 - val_acc: 0.0469\n",
      "Epoch 43/50\n",
      "334/334 [==============================] - 1s 4ms/step - loss: 3.2187e-05 - mse: 3.2189e-05 - mae: 0.0042 - acc: 0.0445 - val_loss: 1.1515e-04 - val_mse: 1.1516e-04 - val_mae: 0.0107 - val_acc: 0.0469\n",
      "Epoch 44/50\n",
      "334/334 [==============================] - 1s 4ms/step - loss: 3.6762e-05 - mse: 3.6761e-05 - mae: 0.0041 - acc: 0.0445 - val_loss: 5.6818e-05 - val_mse: 5.6844e-05 - val_mae: 0.0075 - val_acc: 0.0469\n",
      "Epoch 45/50\n",
      "334/334 [==============================] - 1s 4ms/step - loss: 3.2785e-05 - mse: 3.2784e-05 - mae: 0.0042 - acc: 0.0445 - val_loss: 5.2004e-05 - val_mse: 5.2006e-05 - val_mae: 0.0072 - val_acc: 0.0469\n",
      "Epoch 46/50\n",
      "334/334 [==============================] - 1s 4ms/step - loss: 3.8262e-05 - mse: 3.8264e-05 - mae: 0.0039 - acc: 0.0445 - val_loss: 5.1255e-05 - val_mse: 5.1258e-05 - val_mae: 0.0072 - val_acc: 0.0469\n",
      "Epoch 47/50\n",
      "334/334 [==============================] - 1s 4ms/step - loss: 3.9157e-05 - mse: 3.9158e-05 - mae: 0.0042 - acc: 0.0445 - val_loss: 5.1535e-08 - val_mse: 7.3228e-08 - val_mae: 1.2209e-04 - val_acc: 0.0469\n",
      "Epoch 48/50\n",
      "334/334 [==============================] - 1s 4ms/step - loss: 3.6864e-05 - mse: 3.6864e-05 - mae: 0.0041 - acc: 0.0445 - val_loss: 4.6516e-05 - val_mse: 4.6473e-05 - val_mae: 0.0068 - val_acc: 0.0469\n",
      "Epoch 49/50\n",
      "334/334 [==============================] - 1s 4ms/step - loss: 3.6084e-05 - mse: 3.6085e-05 - mae: 0.0041 - acc: 0.0445 - val_loss: 5.1535e-08 - val_mse: 6.3101e-08 - val_mae: 8.9840e-05 - val_acc: 0.0469\n",
      "Epoch 50/50\n",
      "334/334 [==============================] - 1s 4ms/step - loss: 3.4899e-05 - mse: 3.4902e-05 - mae: 0.0042 - acc: 0.0445 - val_loss: 9.2530e-08 - val_mse: 8.5117e-08 - val_mae: 1.5239e-04 - val_acc: 0.0469\n"
     ]
    }
   ],
   "source": [
    "#tanh\n",
    "#LEARNING RATE =  0.01\n",
    "rms = keras.optimizers.RMSprop(learning_rate=0.01)\n",
    "\n",
    "model2.compile(optimizer=rms, loss='mse',  metrics=['mse','mae','acc'])\n",
    "history = model2.fit(X_train, y_train, epochs=50, batch_size=256,  verbose=1, validation_split=0.2)"
   ]
  },
  {
   "cell_type": "code",
   "execution_count": 21,
   "id": "987f1155",
   "metadata": {},
   "outputs": [
    {
     "name": "stdout",
     "output_type": "stream",
     "text": [
      "dict_keys(['loss', 'mse', 'mae', 'acc', 'val_loss', 'val_mse', 'val_mae', 'val_acc'])\n"
     ]
    },
    {
     "data": {
      "image/png": "[encoded data removed]",
      "text/plain": [
       "<Figure size 432x288 with 1 Axes>"
      ]
     },
     "metadata": {
      "needs_background": "light"
     },
     "output_type": "display_data"
    },
    {
     "name": "stdout",
     "output_type": "stream",
     "text": [
      "Average MSE:  0.00011083565877925138\n"
     ]
    },
    {
     "data": {
      "image/png": "[encoded data removed]",
      "text/plain": [
       "<Figure size 432x288 with 1 Axes>"
      ]
     },
     "metadata": {
      "needs_background": "light"
     },
     "output_type": "display_data"
    }
   ],
   "source": [
    "historyOut(history)"
   ]
  },
  {
   "cell_type": "code",
   "execution_count": 22,
   "id": "7e99bba8",
   "metadata": {},
   "outputs": [
    {
     "name": "stdout",
     "output_type": "stream",
     "text": [
      "Epoch 1/50\n",
      "334/334 [==============================] - 2s 5ms/step - loss: 3.6262e-07 - mse: 3.6438e-07 - mae: 5.3231e-04 - acc: 0.0445 - val_loss: 3.5099e-07 - val_mse: 3.5910e-07 - val_mae: 5.5483e-04 - val_acc: 0.0469\n",
      "Epoch 2/50\n",
      "334/334 [==============================] - 1s 4ms/step - loss: 2.7209e-07 - mse: 2.6555e-07 - mae: 5.0181e-04 - acc: 0.0445 - val_loss: 4.1059e-07 - val_mse: 3.9686e-07 - val_mae: 5.8781e-04 - val_acc: 0.0469\n",
      "Epoch 3/50\n",
      "334/334 [==============================] - 1s 4ms/step - loss: 2.7081e-07 - mse: 2.6632e-07 - mae: 5.0173e-04 - acc: 0.0445 - val_loss: 2.9139e-07 - val_mse: 3.0590e-07 - val_mae: 5.0463e-04 - val_acc: 0.0469\n",
      "Epoch 4/50\n",
      "334/334 [==============================] - 1s 4ms/step - loss: 2.7152e-07 - mse: 2.6545e-07 - mae: 5.0168e-04 - acc: 0.0445 - val_loss: 2.9139e-07 - val_mse: 3.0964e-07 - val_mae: 5.0831e-04 - val_acc: 0.0469\n",
      "Epoch 5/50\n",
      "334/334 [==============================] - 1s 4ms/step - loss: 2.7206e-07 - mse: 2.6646e-07 - mae: 5.0206e-04 - acc: 0.0445 - val_loss: 2.9139e-07 - val_mse: 3.0801e-07 - val_mae: 5.0667e-04 - val_acc: 0.0469\n",
      "Epoch 6/50\n",
      "334/334 [==============================] - 1s 4ms/step - loss: 2.7206e-07 - mse: 2.6599e-07 - mae: 5.0147e-04 - acc: 0.0445 - val_loss: 2.8781e-07 - val_mse: 2.6383e-07 - val_mae: 4.6411e-04 - val_acc: 0.0469\n",
      "Epoch 7/50\n",
      "334/334 [==============================] - 1s 4ms/step - loss: 2.7045e-07 - mse: 2.6546e-07 - mae: 5.0154e-04 - acc: 0.0445 - val_loss: 2.8781e-07 - val_mse: 2.7023e-07 - val_mae: 4.7102e-04 - val_acc: 0.0469\n",
      "Epoch 8/50\n",
      "334/334 [==============================] - 1s 4ms/step - loss: 2.7152e-07 - mse: 2.6614e-07 - mae: 5.0204e-04 - acc: 0.0445 - val_loss: 2.8781e-07 - val_mse: 2.8235e-07 - val_mae: 4.8377e-04 - val_acc: 0.0469\n",
      "Epoch 9/50\n",
      "334/334 [==============================] - 1s 4ms/step - loss: 2.6921e-07 - mse: 2.6513e-07 - mae: 5.0054e-04 - acc: 0.0445 - val_loss: 3.4741e-07 - val_mse: 3.5129e-07 - val_mae: 5.5082e-04 - val_acc: 0.0469\n",
      "Epoch 10/50\n",
      "334/334 [==============================] - 1s 4ms/step - loss: 2.7172e-07 - mse: 2.6519e-07 - mae: 5.0164e-04 - acc: 0.0445 - val_loss: 3.4741e-07 - val_mse: 3.3216e-07 - val_mae: 5.3301e-04 - val_acc: 0.0469\n",
      "Epoch 11/50\n",
      "334/334 [==============================] - 1s 4ms/step - loss: 2.7011e-07 - mse: 2.6566e-07 - mae: 5.0099e-04 - acc: 0.0445 - val_loss: 3.4741e-07 - val_mse: 3.3258e-07 - val_mae: 5.3342e-04 - val_acc: 0.0469\n",
      "Epoch 12/50\n",
      "334/334 [==============================] - 1s 4ms/step - loss: 2.7027e-07 - mse: 2.6599e-07 - mae: 5.0180e-04 - acc: 0.0445 - val_loss: 2.9139e-07 - val_mse: 2.7116e-07 - val_mae: 4.6895e-04 - val_acc: 0.0469\n",
      "Epoch 13/50\n",
      "334/334 [==============================] - 1s 4ms/step - loss: 2.7011e-07 - mse: 2.6646e-07 - mae: 5.0220e-04 - acc: 0.0445 - val_loss: 2.9139e-07 - val_mse: 2.9694e-07 - val_mae: 4.9567e-04 - val_acc: 0.0469\n",
      "Epoch 14/50\n",
      "334/334 [==============================] - 1s 4ms/step - loss: 2.6884e-07 - mse: 2.6514e-07 - mae: 5.0085e-04 - acc: 0.0445 - val_loss: 2.9139e-07 - val_mse: 2.7618e-07 - val_mae: 4.7429e-04 - val_acc: 0.0469\n",
      "Epoch 15/50\n",
      "334/334 [==============================] - 1s 4ms/step - loss: 2.7063e-07 - mse: 2.6576e-07 - mae: 5.0158e-04 - acc: 0.0445 - val_loss: 2.9139e-07 - val_mse: 2.6668e-07 - val_mae: 4.6415e-04 - val_acc: 0.0469\n",
      "Epoch 16/50\n",
      "334/334 [==============================] - 1s 4ms/step - loss: 2.7099e-07 - mse: 2.6497e-07 - mae: 5.0100e-04 - acc: 0.0445 - val_loss: 2.9139e-07 - val_mse: 2.9920e-07 - val_mae: 4.9796e-04 - val_acc: 0.0469\n",
      "Epoch 17/50\n",
      "334/334 [==============================] - 1s 4ms/step - loss: 2.6975e-07 - mse: 2.6551e-07 - mae: 5.0103e-04 - acc: 0.0445 - val_loss: 2.9139e-07 - val_mse: 3.1708e-07 - val_mae: 5.1558e-04 - val_acc: 0.0469\n",
      "Epoch 18/50\n",
      "334/334 [==============================] - 1s 4ms/step - loss: 2.6795e-07 - mse: 2.6479e-07 - mae: 5.0108e-04 - acc: 0.0445 - val_loss: 2.8781e-07 - val_mse: 2.7837e-07 - val_mae: 4.7961e-04 - val_acc: 0.0469\n",
      "Epoch 19/50\n",
      "334/334 [==============================] - 1s 4ms/step - loss: 2.6938e-07 - mse: 2.6458e-07 - mae: 5.0051e-04 - acc: 0.0445 - val_loss: 2.8852e-07 - val_mse: 3.1621e-07 - val_mae: 5.1781e-04 - val_acc: 0.0469\n",
      "Epoch 20/50\n",
      "334/334 [==============================] - 1s 4ms/step - loss: 2.6973e-07 - mse: 2.6564e-07 - mae: 5.0112e-04 - acc: 0.0445 - val_loss: 2.8852e-07 - val_mse: 3.1314e-07 - val_mae: 5.1480e-04 - val_acc: 0.0469\n",
      "Epoch 21/50\n",
      "334/334 [==============================] - 1s 4ms/step - loss: 2.7005e-07 - mse: 2.6493e-07 - mae: 5.0229e-04 - acc: 0.0445 - val_loss: 1.0971e-07 - val_mse: 1.1993e-07 - val_mae: 2.6518e-04 - val_acc: 0.0469\n",
      "Epoch 22/50\n",
      "334/334 [==============================] - 1s 4ms/step - loss: 2.6869e-07 - mse: 2.6541e-07 - mae: 5.0055e-04 - acc: 0.0445 - val_loss: 4.0702e-07 - val_mse: 4.0967e-07 - val_mae: 6.0174e-04 - val_acc: 0.0469\n",
      "Epoch 23/50\n",
      "334/334 [==============================] - 1s 4ms/step - loss: 2.6796e-07 - mse: 2.6568e-07 - mae: 5.0136e-04 - acc: 0.0445 - val_loss: 3.4741e-07 - val_mse: 3.2102e-07 - val_mae: 5.2246e-04 - val_acc: 0.0469\n",
      "Epoch 24/50\n",
      "334/334 [==============================] - 1s 4ms/step - loss: 2.7011e-07 - mse: 2.6545e-07 - mae: 5.0124e-04 - acc: 0.0445 - val_loss: 2.9139e-07 - val_mse: 3.1408e-07 - val_mae: 5.1268e-04 - val_acc: 0.0469\n",
      "Epoch 25/50\n",
      "334/334 [==============================] - 1s 4ms/step - loss: 2.6671e-07 - mse: 2.6448e-07 - mae: 5.0050e-04 - acc: 0.0445 - val_loss: 3.5099e-07 - val_mse: 3.3194e-07 - val_mae: 5.2980e-04 - val_acc: 0.0469\n",
      "Epoch 26/50\n",
      "334/334 [==============================] - 1s 4ms/step - loss: 2.6957e-07 - mse: 2.6463e-07 - mae: 5.0056e-04 - acc: 0.0445 - val_loss: 2.9496e-07 - val_mse: 3.2150e-07 - val_mae: 5.1987e-04 - val_acc: 0.0469\n",
      "Epoch 27/50\n",
      "334/334 [==============================] - 1s 4ms/step - loss: 2.6920e-07 - mse: 2.6512e-07 - mae: 5.0077e-04 - acc: 0.0445 - val_loss: 3.5099e-07 - val_mse: 3.2443e-07 - val_mae: 5.2268e-04 - val_acc: 0.0469\n",
      "Epoch 28/50\n",
      "334/334 [==============================] - 1s 4ms/step - loss: 2.6885e-07 - mse: 2.6490e-07 - mae: 5.0146e-04 - acc: 0.0445 - val_loss: 3.5027e-07 - val_mse: 3.2368e-07 - val_mae: 5.2196e-04 - val_acc: 0.0469\n",
      "Epoch 29/50\n",
      "334/334 [==============================] - 1s 4ms/step - loss: 2.6868e-07 - mse: 2.6527e-07 - mae: 5.0095e-04 - acc: 0.0445 - val_loss: 3.5099e-07 - val_mse: 3.2379e-07 - val_mae: 5.2206e-04 - val_acc: 0.0469\n",
      "Epoch 30/50\n",
      "334/334 [==============================] - 1s 4ms/step - loss: 2.6884e-07 - mse: 2.6467e-07 - mae: 5.0127e-04 - acc: 0.0445 - val_loss: 2.8781e-07 - val_mse: 2.8873e-07 - val_mae: 4.9038e-04 - val_acc: 0.0469\n",
      "Epoch 31/50\n",
      "334/334 [==============================] - 1s 4ms/step - loss: 2.6693e-07 - mse: 2.6319e-07 - mae: 4.9990e-04 - acc: 0.0445 - val_loss: 5.8511e-07 - val_mse: 5.7045e-07 - val_mae: 7.2360e-04 - val_acc: 0.0469\n",
      "Epoch 32/50\n",
      "334/334 [==============================] - 1s 4ms/step - loss: 2.6939e-07 - mse: 2.6512e-07 - mae: 5.0043e-04 - acc: 0.0445 - val_loss: 3.4741e-07 - val_mse: 3.2297e-07 - val_mae: 5.2432e-04 - val_acc: 0.0469\n",
      "Epoch 33/50\n",
      "334/334 [==============================] - 1s 4ms/step - loss: 2.6759e-07 - mse: 2.6540e-07 - mae: 5.0149e-04 - acc: 0.0445 - val_loss: 2.8781e-07 - val_mse: 3.1324e-07 - val_mae: 5.1491e-04 - val_acc: 0.0469\n",
      "Epoch 34/50\n",
      "334/334 [==============================] - 1s 4ms/step - loss: 2.6689e-07 - mse: 2.6460e-07 - mae: 5.0079e-04 - acc: 0.0445 - val_loss: 3.4741e-07 - val_mse: 3.1989e-07 - val_mae: 5.2136e-04 - val_acc: 0.0469\n",
      "Epoch 35/50\n",
      "334/334 [==============================] - 1s 4ms/step - loss: 2.6814e-07 - mse: 2.6417e-07 - mae: 5.0059e-04 - acc: 0.0445 - val_loss: 3.4741e-07 - val_mse: 3.2054e-07 - val_mae: 5.2199e-04 - val_acc: 0.0469\n",
      "Epoch 36/50\n",
      "334/334 [==============================] - 1s 4ms/step - loss: 2.6902e-07 - mse: 2.6520e-07 - mae: 5.0122e-04 - acc: 0.0445 - val_loss: 2.9139e-07 - val_mse: 2.9858e-07 - val_mae: 4.9734e-04 - val_acc: 0.0469\n",
      "Epoch 37/50\n",
      "334/334 [==============================] - 1s 4ms/step - loss: 2.6884e-07 - mse: 2.6589e-07 - mae: 5.0183e-04 - acc: 0.0445 - val_loss: 2.9139e-07 - val_mse: 2.9683e-07 - val_mae: 4.9558e-04 - val_acc: 0.0469\n",
      "Epoch 38/50\n",
      "334/334 [==============================] - 1s 4ms/step - loss: 2.6973e-07 - mse: 2.6526e-07 - mae: 5.0115e-04 - acc: 0.0445 - val_loss: 2.9139e-07 - val_mse: 2.7961e-07 - val_mae: 4.7788e-04 - val_acc: 0.0469\n",
      "Epoch 39/50\n",
      "334/334 [==============================] - 1s 4ms/step - loss: 2.6707e-07 - mse: 2.6455e-07 - mae: 5.0092e-04 - acc: 0.0445 - val_loss: 3.5099e-07 - val_mse: 3.5203e-07 - val_mae: 5.4845e-04 - val_acc: 0.0469\n",
      "Epoch 40/50\n",
      "334/334 [==============================] - 1s 4ms/step - loss: 2.6795e-07 - mse: 2.6413e-07 - mae: 5.0026e-04 - acc: 0.0445 - val_loss: 2.9139e-07 - val_mse: 3.0773e-07 - val_mae: 5.0645e-04 - val_acc: 0.0469\n",
      "Epoch 41/50\n",
      "334/334 [==============================] - 1s 4ms/step - loss: 2.6651e-07 - mse: 2.6581e-07 - mae: 5.0186e-04 - acc: 0.0445 - val_loss: 2.9139e-07 - val_mse: 2.9413e-07 - val_mae: 4.9284e-04 - val_acc: 0.0469\n",
      "Epoch 42/50\n",
      "334/334 [==============================] - 1s 4ms/step - loss: 2.6902e-07 - mse: 2.6493e-07 - mae: 5.0045e-04 - acc: 0.0445 - val_loss: 3.3381e-07 - val_mse: 3.1741e-07 - val_mae: 5.1898e-04 - val_acc: 0.0469\n",
      "Epoch 43/50\n",
      "334/334 [==============================] - 1s 4ms/step - loss: 2.6705e-07 - mse: 2.6535e-07 - mae: 5.0148e-04 - acc: 0.0445 - val_loss: 2.8781e-07 - val_mse: 2.9711e-07 - val_mae: 4.9890e-04 - val_acc: 0.0469\n",
      "Epoch 44/50\n",
      "334/334 [==============================] - 1s 4ms/step - loss: 2.6777e-07 - mse: 2.6480e-07 - mae: 5.0126e-04 - acc: 0.0445 - val_loss: 2.8781e-07 - val_mse: 2.8084e-07 - val_mae: 4.8223e-04 - val_acc: 0.0469\n",
      "Epoch 45/50\n",
      "334/334 [==============================] - 1s 4ms/step - loss: 2.6975e-07 - mse: 2.6518e-07 - mae: 5.0077e-04 - acc: 0.0445 - val_loss: 3.4598e-07 - val_mse: 3.1791e-07 - val_mae: 5.1944e-04 - val_acc: 0.0469\n",
      "Epoch 46/50\n",
      "334/334 [==============================] - 1s 4ms/step - loss: 2.7009e-07 - mse: 2.6511e-07 - mae: 5.0064e-04 - acc: 0.0445 - val_loss: 2.8781e-07 - val_mse: 3.1151e-07 - val_mae: 5.1322e-04 - val_acc: 0.0469\n",
      "Epoch 47/50\n",
      "334/334 [==============================] - 1s 4ms/step - loss: 2.6938e-07 - mse: 2.6477e-07 - mae: 5.0092e-04 - acc: 0.0445 - val_loss: 2.8781e-07 - val_mse: 2.7190e-07 - val_mae: 4.7280e-04 - val_acc: 0.0469\n",
      "Epoch 48/50\n",
      "334/334 [==============================] - 1s 4ms/step - loss: 2.6778e-07 - mse: 2.6401e-07 - mae: 5.0025e-04 - acc: 0.0445 - val_loss: 3.5099e-07 - val_mse: 3.4961e-07 - val_mae: 5.4623e-04 - val_acc: 0.0469\n",
      "Epoch 49/50\n",
      "334/334 [==============================] - 1s 4ms/step - loss: 2.7045e-07 - mse: 2.6461e-07 - mae: 5.0090e-04 - acc: 0.0445 - val_loss: 2.9139e-07 - val_mse: 2.9989e-07 - val_mae: 4.9865e-04 - val_acc: 0.0469\n",
      "Epoch 50/50\n",
      "334/334 [==============================] - 1s 4ms/step - loss: 2.6580e-07 - mse: 2.6454e-07 - mae: 5.0107e-04 - acc: 0.0445 - val_loss: 2.9139e-07 - val_mse: 3.1509e-07 - val_mae: 5.1367e-04 - val_acc: 0.0469\n"
     ]
    }
   ],
   "source": [
    "#tanh\n",
    "#LEARNING RATE =  0.001\n",
    "rms = keras.optimizers.RMSprop(learning_rate=0.001)\n",
    "\n",
    "model2.compile(optimizer=rms, loss='mse',  metrics=['mse','mae','acc'])\n",
    "history = model2.fit(X_train, y_train, epochs=50, batch_size=256,  verbose=1, validation_split=0.2)"
   ]
  },
  {
   "cell_type": "code",
   "execution_count": 23,
   "id": "ca995474",
   "metadata": {},
   "outputs": [
    {
     "name": "stdout",
     "output_type": "stream",
     "text": [
      "dict_keys(['loss', 'mse', 'mae', 'acc', 'val_loss', 'val_mse', 'val_mae', 'val_acc'])\n"
     ]
    },
    {
     "data": {
      "image/png": "[encoded data removed]",
      "text/plain": [
       "<Figure size 432x288 with 1 Axes>"
      ]
     },
     "metadata": {
      "needs_background": "light"
     },
     "output_type": "display_data"
    },
    {
     "name": "stdout",
     "output_type": "stream",
     "text": [
      "Average MSE:  2.6715404999322345e-07\n"
     ]
    },
    {
     "data": {
      "image/png": "[encoded data removed]",
      "text/plain": [
       "<Figure size 432x288 with 1 Axes>"
      ]
     },
     "metadata": {
      "needs_background": "light"
     },
     "output_type": "display_data"
    }
   ],
   "source": [
    "historyOut(history)"
   ]
  },
  {
   "cell_type": "code",
   "execution_count": 24,
   "id": "a50eb6a0",
   "metadata": {},
   "outputs": [
    {
     "name": "stdout",
     "output_type": "stream",
     "text": [
      "Epoch 1/50\n",
      "334/334 [==============================] - 2s 5ms/step - loss: 1.4137e-08 - mse: 1.6311e-08 - mae: 4.5259e-05 - acc: 0.0445 - val_loss: 5.1535e-08 - val_mse: 5.3781e-08 - val_mae: 5.0452e-05 - val_acc: 0.0469\n",
      "Epoch 2/50\n",
      "334/334 [==============================] - 1s 4ms/step - loss: 1.3242e-08 - mse: 1.5589e-08 - mae: 4.7189e-05 - acc: 0.0445 - val_loss: 5.1535e-08 - val_mse: 5.3739e-08 - val_mae: 5.0034e-05 - val_acc: 0.0469\n",
      "Epoch 3/50\n",
      "334/334 [==============================] - 1s 4ms/step - loss: 1.3242e-08 - mse: 1.5596e-08 - mae: 4.7846e-05 - acc: 0.0445 - val_loss: 5.0820e-08 - val_mse: 5.3576e-08 - val_mae: 5.1477e-05 - val_acc: 0.0469\n",
      "Epoch 4/50\n",
      "334/334 [==============================] - 1s 4ms/step - loss: 1.3242e-08 - mse: 1.5583e-08 - mae: 4.7404e-05 - acc: 0.0445 - val_loss: 5.0820e-08 - val_mse: 5.3571e-08 - val_mae: 5.1423e-05 - val_acc: 0.0469\n",
      "Epoch 5/50\n",
      "334/334 [==============================] - 1s 4ms/step - loss: 1.3242e-08 - mse: 1.5593e-08 - mae: 4.7651e-05 - acc: 0.0445 - val_loss: 5.0820e-08 - val_mse: 5.3362e-08 - val_mae: 4.9215e-05 - val_acc: 0.0469\n",
      "Epoch 6/50\n",
      "334/334 [==============================] - 1s 4ms/step - loss: 1.3063e-08 - mse: 1.5567e-08 - mae: 4.7986e-05 - acc: 0.0445 - val_loss: 5.1535e-08 - val_mse: 5.4048e-08 - val_mae: 5.3045e-05 - val_acc: 0.0469\n",
      "Epoch 7/50\n",
      "334/334 [==============================] - 1s 4ms/step - loss: 1.3242e-08 - mse: 1.5577e-08 - mae: 4.7329e-05 - acc: 0.0445 - val_loss: 5.1535e-08 - val_mse: 5.3996e-08 - val_mae: 5.2548e-05 - val_acc: 0.0469\n",
      "Epoch 8/50\n",
      "334/334 [==============================] - 1s 4ms/step - loss: 1.3063e-08 - mse: 1.5553e-08 - mae: 4.8284e-05 - acc: 0.0445 - val_loss: 5.0820e-08 - val_mse: 5.3593e-08 - val_mae: 5.1660e-05 - val_acc: 0.0469\n",
      "Epoch 9/50\n",
      "334/334 [==============================] - 1s 4ms/step - loss: 1.3242e-08 - mse: 1.5525e-08 - mae: 4.7395e-05 - acc: 0.0445 - val_loss: 5.1535e-08 - val_mse: 6.8381e-08 - val_mae: 1.3094e-04 - val_acc: 0.0469\n",
      "Epoch 10/50\n",
      "334/334 [==============================] - 1s 4ms/step - loss: 1.3063e-08 - mse: 1.5550e-08 - mae: 4.7292e-05 - acc: 0.0445 - val_loss: 5.1535e-08 - val_mse: 5.4123e-08 - val_mae: 5.3743e-05 - val_acc: 0.0469\n",
      "Epoch 11/50\n",
      "334/334 [==============================] - 1s 4ms/step - loss: 1.3242e-08 - mse: 1.5584e-08 - mae: 4.7612e-05 - acc: 0.0445 - val_loss: 5.0820e-08 - val_mse: 5.4003e-08 - val_mae: 5.5710e-05 - val_acc: 0.0469\n",
      "Epoch 12/50\n",
      "334/334 [==============================] - 1s 4ms/step - loss: 1.3242e-08 - mse: 1.5602e-08 - mae: 4.7795e-05 - acc: 0.0445 - val_loss: 5.1535e-08 - val_mse: 5.3506e-08 - val_mae: 4.7651e-05 - val_acc: 0.0469\n",
      "Epoch 13/50\n",
      "334/334 [==============================] - 1s 4ms/step - loss: 1.3242e-08 - mse: 1.5561e-08 - mae: 4.7454e-05 - acc: 0.0445 - val_loss: 5.1535e-08 - val_mse: 5.7477e-08 - val_mae: 7.9009e-05 - val_acc: 0.0469\n",
      "Epoch 14/50\n",
      "334/334 [==============================] - 1s 4ms/step - loss: 1.3063e-08 - mse: 1.5569e-08 - mae: 4.8461e-05 - acc: 0.0445 - val_loss: 5.0820e-08 - val_mse: 5.3440e-08 - val_mae: 5.0051e-05 - val_acc: 0.0469\n",
      "Epoch 15/50\n",
      "334/334 [==============================] - 1s 4ms/step - loss: 1.3063e-08 - mse: 1.5534e-08 - mae: 4.8329e-05 - acc: 0.0445 - val_loss: 5.1535e-08 - val_mse: 5.3946e-08 - val_mae: 5.2065e-05 - val_acc: 0.0469\n",
      "Epoch 16/50\n",
      "334/334 [==============================] - 1s 4ms/step - loss: 1.3063e-08 - mse: 1.5549e-08 - mae: 4.8106e-05 - acc: 0.0445 - val_loss: 5.0820e-08 - val_mse: 5.3813e-08 - val_mae: 5.3866e-05 - val_acc: 0.0469\n",
      "Epoch 17/50\n",
      "334/334 [==============================] - 1s 4ms/step - loss: 1.3242e-08 - mse: 1.5589e-08 - mae: 4.7385e-05 - acc: 0.0445 - val_loss: 5.1535e-08 - val_mse: 5.3780e-08 - val_mae: 5.0454e-05 - val_acc: 0.0469\n",
      "Epoch 18/50\n",
      "334/334 [==============================] - 1s 4ms/step - loss: 1.3242e-08 - mse: 1.5626e-08 - mae: 4.9331e-05 - acc: 0.0445 - val_loss: 5.1535e-08 - val_mse: 5.1235e-08 - val_mae: 4.5754e-06 - val_acc: 0.0469\n",
      "Epoch 19/50\n",
      "334/334 [==============================] - 1s 4ms/step - loss: 1.3063e-08 - mse: 1.5547e-08 - mae: 4.6860e-05 - acc: 0.0445 - val_loss: 5.1535e-08 - val_mse: 5.2885e-08 - val_mae: 4.0622e-05 - val_acc: 0.0469\n",
      "Epoch 20/50\n",
      "334/334 [==============================] - 1s 4ms/step - loss: 1.3242e-08 - mse: 1.5575e-08 - mae: 4.7269e-05 - acc: 0.0445 - val_loss: 5.1535e-08 - val_mse: 5.3878e-08 - val_mae: 5.1411e-05 - val_acc: 0.0469\n",
      "Epoch 21/50\n",
      "334/334 [==============================] - 1s 4ms/step - loss: 1.3063e-08 - mse: 1.5471e-08 - mae: 4.7805e-05 - acc: 0.0445 - val_loss: 5.1535e-08 - val_mse: 7.0673e-08 - val_mae: 1.3942e-04 - val_acc: 0.0469\n",
      "Epoch 22/50\n",
      "334/334 [==============================] - 1s 4ms/step - loss: 1.3242e-08 - mse: 1.5633e-08 - mae: 4.7226e-05 - acc: 0.0445 - val_loss: 5.0820e-08 - val_mse: 5.3617e-08 - val_mae: 5.1897e-05 - val_acc: 0.0469\n",
      "Epoch 23/50\n",
      "334/334 [==============================] - 1s 4ms/step - loss: 1.3242e-08 - mse: 1.5579e-08 - mae: 4.7290e-05 - acc: 0.0445 - val_loss: 5.0820e-08 - val_mse: 5.3303e-08 - val_mae: 4.8567e-05 - val_acc: 0.0469\n",
      "Epoch 24/50\n",
      "334/334 [==============================] - 1s 4ms/step - loss: 1.3063e-08 - mse: 1.5540e-08 - mae: 4.7734e-05 - acc: 0.0445 - val_loss: 5.1535e-08 - val_mse: 5.3668e-08 - val_mae: 4.9330e-05 - val_acc: 0.0469\n",
      "Epoch 25/50\n",
      " 13/334 [>.............................] - ETA: 1s - loss: 0.0000e+00 - mse: 2.4855e-09 - mae: 4.9712e-05 - acc: 0.0403"
     ]
    },
    {
     "ename": "KeyboardInterrupt",
     "evalue": "",
     "output_type": "error",
     "traceback": [
      "\u001b[1;31m---------------------------------------------------------------------------\u001b[0m",
      "\u001b[1;31mKeyboardInterrupt\u001b[0m                         Traceback (most recent call last)",
      "\u001b[1;32m~\\AppData\\Local\\Temp/ipykernel_10660/3904504199.py\u001b[0m in \u001b[0;36m<module>\u001b[1;34m\u001b[0m\n\u001b[0;32m      4\u001b[0m \u001b[1;33m\u001b[0m\u001b[0m\n\u001b[0;32m      5\u001b[0m \u001b[0mmodel2\u001b[0m\u001b[1;33m.\u001b[0m\u001b[0mcompile\u001b[0m\u001b[1;33m(\u001b[0m\u001b[0moptimizer\u001b[0m\u001b[1;33m=\u001b[0m\u001b[0mrms\u001b[0m\u001b[1;33m,\u001b[0m \u001b[0mloss\u001b[0m\u001b[1;33m=\u001b[0m\u001b[1;34m'mse'\u001b[0m\u001b[1;33m,\u001b[0m  \u001b[0mmetrics\u001b[0m\u001b[1;33m=\u001b[0m\u001b[1;33m[\u001b[0m\u001b[1;34m'mse'\u001b[0m\u001b[1;33m,\u001b[0m\u001b[1;34m'mae'\u001b[0m\u001b[1;33m,\u001b[0m\u001b[1;34m'acc'\u001b[0m\u001b[1;33m]\u001b[0m\u001b[1;33m)\u001b[0m\u001b[1;33m\u001b[0m\u001b[1;33m\u001b[0m\u001b[0m\n\u001b[1;32m----> 6\u001b[1;33m \u001b[0mhistory\u001b[0m \u001b[1;33m=\u001b[0m \u001b[0mmodel2\u001b[0m\u001b[1;33m.\u001b[0m\u001b[0mfit\u001b[0m\u001b[1;33m(\u001b[0m\u001b[0mX_train\u001b[0m\u001b[1;33m,\u001b[0m \u001b[0my_train\u001b[0m\u001b[1;33m,\u001b[0m \u001b[0mepochs\u001b[0m\u001b[1;33m=\u001b[0m\u001b[1;36m50\u001b[0m\u001b[1;33m,\u001b[0m \u001b[0mbatch_size\u001b[0m\u001b[1;33m=\u001b[0m\u001b[1;36m256\u001b[0m\u001b[1;33m,\u001b[0m  \u001b[0mverbose\u001b[0m\u001b[1;33m=\u001b[0m\u001b[1;36m1\u001b[0m\u001b[1;33m,\u001b[0m \u001b[0mvalidation_split\u001b[0m\u001b[1;33m=\u001b[0m\u001b[1;36m0.2\u001b[0m\u001b[1;33m)\u001b[0m\u001b[1;33m\u001b[0m\u001b[1;33m\u001b[0m\u001b[0m\n\u001b[0m",
      "\u001b[1;32m~\\AppData\\Roaming\\Python\\Python39\\site-packages\\keras\\utils\\traceback_utils.py\u001b[0m in \u001b[0;36merror_handler\u001b[1;34m(*args, **kwargs)\u001b[0m\n\u001b[0;32m     62\u001b[0m     \u001b[0mfiltered_tb\u001b[0m \u001b[1;33m=\u001b[0m \u001b[1;32mNone\u001b[0m\u001b[1;33m\u001b[0m\u001b[1;33m\u001b[0m\u001b[0m\n\u001b[0;32m     63\u001b[0m     \u001b[1;32mtry\u001b[0m\u001b[1;33m:\u001b[0m\u001b[1;33m\u001b[0m\u001b[1;33m\u001b[0m\u001b[0m\n\u001b[1;32m---> 64\u001b[1;33m       \u001b[1;32mreturn\u001b[0m \u001b[0mfn\u001b[0m\u001b[1;33m(\u001b[0m\u001b[1;33m*\u001b[0m\u001b[0margs\u001b[0m\u001b[1;33m,\u001b[0m \u001b[1;33m**\u001b[0m\u001b[0mkwargs\u001b[0m\u001b[1;33m)\u001b[0m\u001b[1;33m\u001b[0m\u001b[1;33m\u001b[0m\u001b[0m\n\u001b[0m\u001b[0;32m     65\u001b[0m     \u001b[1;32mexcept\u001b[0m \u001b[0mException\u001b[0m \u001b[1;32mas\u001b[0m \u001b[0me\u001b[0m\u001b[1;33m:\u001b[0m  \u001b[1;31m# pylint: disable=broad-except\u001b[0m\u001b[1;33m\u001b[0m\u001b[1;33m\u001b[0m\u001b[0m\n\u001b[0;32m     66\u001b[0m       \u001b[0mfiltered_tb\u001b[0m \u001b[1;33m=\u001b[0m \u001b[0m_process_traceback_frames\u001b[0m\u001b[1;33m(\u001b[0m\u001b[0me\u001b[0m\u001b[1;33m.\u001b[0m\u001b[0m__traceback__\u001b[0m\u001b[1;33m)\u001b[0m\u001b[1;33m\u001b[0m\u001b[1;33m\u001b[0m\u001b[0m\n",
      "\u001b[1;32m~\\AppData\\Roaming\\Python\\Python39\\site-packages\\keras\\engine\\training.py\u001b[0m in \u001b[0;36mfit\u001b[1;34m(self, x, y, batch_size, epochs, verbose, callbacks, validation_split, validation_data, shuffle, class_weight, sample_weight, initial_epoch, steps_per_epoch, validation_steps, validation_batch_size, validation_freq, max_queue_size, workers, use_multiprocessing)\u001b[0m\n\u001b[0;32m   1407\u001b[0m                 _r=1):\n\u001b[0;32m   1408\u001b[0m               \u001b[0mcallbacks\u001b[0m\u001b[1;33m.\u001b[0m\u001b[0mon_train_batch_begin\u001b[0m\u001b[1;33m(\u001b[0m\u001b[0mstep\u001b[0m\u001b[1;33m)\u001b[0m\u001b[1;33m\u001b[0m\u001b[1;33m\u001b[0m\u001b[0m\n\u001b[1;32m-> 1409\u001b[1;33m               \u001b[0mtmp_logs\u001b[0m \u001b[1;33m=\u001b[0m \u001b[0mself\u001b[0m\u001b[1;33m.\u001b[0m\u001b[0mtrain_function\u001b[0m\u001b[1;33m(\u001b[0m\u001b[0miterator\u001b[0m\u001b[1;33m)\u001b[0m\u001b[1;33m\u001b[0m\u001b[1;33m\u001b[0m\u001b[0m\n\u001b[0m\u001b[0;32m   1410\u001b[0m               \u001b[1;32mif\u001b[0m \u001b[0mdata_handler\u001b[0m\u001b[1;33m.\u001b[0m\u001b[0mshould_sync\u001b[0m\u001b[1;33m:\u001b[0m\u001b[1;33m\u001b[0m\u001b[1;33m\u001b[0m\u001b[0m\n\u001b[0;32m   1411\u001b[0m                 \u001b[0mcontext\u001b[0m\u001b[1;33m.\u001b[0m\u001b[0masync_wait\u001b[0m\u001b[1;33m(\u001b[0m\u001b[1;33m)\u001b[0m\u001b[1;33m\u001b[0m\u001b[1;33m\u001b[0m\u001b[0m\n",
      "\u001b[1;32m~\\AppData\\Roaming\\Python\\Python39\\site-packages\\tensorflow\\python\\util\\traceback_utils.py\u001b[0m in \u001b[0;36merror_handler\u001b[1;34m(*args, **kwargs)\u001b[0m\n\u001b[0;32m    148\u001b[0m     \u001b[0mfiltered_tb\u001b[0m \u001b[1;33m=\u001b[0m \u001b[1;32mNone\u001b[0m\u001b[1;33m\u001b[0m\u001b[1;33m\u001b[0m\u001b[0m\n\u001b[0;32m    149\u001b[0m     \u001b[1;32mtry\u001b[0m\u001b[1;33m:\u001b[0m\u001b[1;33m\u001b[0m\u001b[1;33m\u001b[0m\u001b[0m\n\u001b[1;32m--> 150\u001b[1;33m       \u001b[1;32mreturn\u001b[0m \u001b[0mfn\u001b[0m\u001b[1;33m(\u001b[0m\u001b[1;33m*\u001b[0m\u001b[0margs\u001b[0m\u001b[1;33m,\u001b[0m \u001b[1;33m**\u001b[0m\u001b[0mkwargs\u001b[0m\u001b[1;33m)\u001b[0m\u001b[1;33m\u001b[0m\u001b[1;33m\u001b[0m\u001b[0m\n\u001b[0m\u001b[0;32m    151\u001b[0m     \u001b[1;32mexcept\u001b[0m \u001b[0mException\u001b[0m \u001b[1;32mas\u001b[0m \u001b[0me\u001b[0m\u001b[1;33m:\u001b[0m\u001b[1;33m\u001b[0m\u001b[1;33m\u001b[0m\u001b[0m\n\u001b[0;32m    152\u001b[0m       \u001b[0mfiltered_tb\u001b[0m \u001b[1;33m=\u001b[0m \u001b[0m_process_traceback_frames\u001b[0m\u001b[1;33m(\u001b[0m\u001b[0me\u001b[0m\u001b[1;33m.\u001b[0m\u001b[0m__traceback__\u001b[0m\u001b[1;33m)\u001b[0m\u001b[1;33m\u001b[0m\u001b[1;33m\u001b[0m\u001b[0m\n",
      "\u001b[1;32m~\\AppData\\Roaming\\Python\\Python39\\site-packages\\tensorflow\\python\\eager\\def_function.py\u001b[0m in \u001b[0;36m__call__\u001b[1;34m(self, *args, **kwds)\u001b[0m\n\u001b[0;32m    913\u001b[0m \u001b[1;33m\u001b[0m\u001b[0m\n\u001b[0;32m    914\u001b[0m       \u001b[1;32mwith\u001b[0m \u001b[0mOptionalXlaContext\u001b[0m\u001b[1;33m(\u001b[0m\u001b[0mself\u001b[0m\u001b[1;33m.\u001b[0m\u001b[0m_jit_compile\u001b[0m\u001b[1;33m)\u001b[0m\u001b[1;33m:\u001b[0m\u001b[1;33m\u001b[0m\u001b[1;33m\u001b[0m\u001b[0m\n\u001b[1;32m--> 915\u001b[1;33m         \u001b[0mresult\u001b[0m \u001b[1;33m=\u001b[0m \u001b[0mself\u001b[0m\u001b[1;33m.\u001b[0m\u001b[0m_call\u001b[0m\u001b[1;33m(\u001b[0m\u001b[1;33m*\u001b[0m\u001b[0margs\u001b[0m\u001b[1;33m,\u001b[0m \u001b[1;33m**\u001b[0m\u001b[0mkwds\u001b[0m\u001b[1;33m)\u001b[0m\u001b[1;33m\u001b[0m\u001b[1;33m\u001b[0m\u001b[0m\n\u001b[0m\u001b[0;32m    916\u001b[0m \u001b[1;33m\u001b[0m\u001b[0m\n\u001b[0;32m    917\u001b[0m       \u001b[0mnew_tracing_count\u001b[0m \u001b[1;33m=\u001b[0m \u001b[0mself\u001b[0m\u001b[1;33m.\u001b[0m\u001b[0mexperimental_get_tracing_count\u001b[0m\u001b[1;33m(\u001b[0m\u001b[1;33m)\u001b[0m\u001b[1;33m\u001b[0m\u001b[1;33m\u001b[0m\u001b[0m\n",
      "\u001b[1;32m~\\AppData\\Roaming\\Python\\Python39\\site-packages\\tensorflow\\python\\eager\\def_function.py\u001b[0m in \u001b[0;36m_call\u001b[1;34m(self, *args, **kwds)\u001b[0m\n\u001b[0;32m    945\u001b[0m       \u001b[1;31m# In this case we have created variables on the first call, so we run the\u001b[0m\u001b[1;33m\u001b[0m\u001b[1;33m\u001b[0m\u001b[0m\n\u001b[0;32m    946\u001b[0m       \u001b[1;31m# defunned version which is guaranteed to never create variables.\u001b[0m\u001b[1;33m\u001b[0m\u001b[1;33m\u001b[0m\u001b[0m\n\u001b[1;32m--> 947\u001b[1;33m       \u001b[1;32mreturn\u001b[0m \u001b[0mself\u001b[0m\u001b[1;33m.\u001b[0m\u001b[0m_stateless_fn\u001b[0m\u001b[1;33m(\u001b[0m\u001b[1;33m*\u001b[0m\u001b[0margs\u001b[0m\u001b[1;33m,\u001b[0m \u001b[1;33m**\u001b[0m\u001b[0mkwds\u001b[0m\u001b[1;33m)\u001b[0m  \u001b[1;31m# pylint: disable=not-callable\u001b[0m\u001b[1;33m\u001b[0m\u001b[1;33m\u001b[0m\u001b[0m\n\u001b[0m\u001b[0;32m    948\u001b[0m     \u001b[1;32melif\u001b[0m \u001b[0mself\u001b[0m\u001b[1;33m.\u001b[0m\u001b[0m_stateful_fn\u001b[0m \u001b[1;32mis\u001b[0m \u001b[1;32mnot\u001b[0m \u001b[1;32mNone\u001b[0m\u001b[1;33m:\u001b[0m\u001b[1;33m\u001b[0m\u001b[1;33m\u001b[0m\u001b[0m\n\u001b[0;32m    949\u001b[0m       \u001b[1;31m# Release the lock early so that multiple threads can perform the call\u001b[0m\u001b[1;33m\u001b[0m\u001b[1;33m\u001b[0m\u001b[0m\n",
      "\u001b[1;32m~\\AppData\\Roaming\\Python\\Python39\\site-packages\\tensorflow\\python\\eager\\function.py\u001b[0m in \u001b[0;36m__call__\u001b[1;34m(self, *args, **kwargs)\u001b[0m\n\u001b[0;32m   2451\u001b[0m       (graph_function,\n\u001b[0;32m   2452\u001b[0m        filtered_flat_args) = self._maybe_define_function(args, kwargs)\n\u001b[1;32m-> 2453\u001b[1;33m     return graph_function._call_flat(\n\u001b[0m\u001b[0;32m   2454\u001b[0m         filtered_flat_args, captured_inputs=graph_function.captured_inputs)  # pylint: disable=protected-access\n\u001b[0;32m   2455\u001b[0m \u001b[1;33m\u001b[0m\u001b[0m\n",
      "\u001b[1;32m~\\AppData\\Roaming\\Python\\Python39\\site-packages\\tensorflow\\python\\eager\\function.py\u001b[0m in \u001b[0;36m_call_flat\u001b[1;34m(self, args, captured_inputs, cancellation_manager)\u001b[0m\n\u001b[0;32m   1858\u001b[0m         and executing_eagerly):\n\u001b[0;32m   1859\u001b[0m       \u001b[1;31m# No tape is watching; skip to running the function.\u001b[0m\u001b[1;33m\u001b[0m\u001b[1;33m\u001b[0m\u001b[0m\n\u001b[1;32m-> 1860\u001b[1;33m       return self._build_call_outputs(self._inference_function.call(\n\u001b[0m\u001b[0;32m   1861\u001b[0m           ctx, args, cancellation_manager=cancellation_manager))\n\u001b[0;32m   1862\u001b[0m     forward_backward = self._select_forward_and_backward_functions(\n",
      "\u001b[1;32m~\\AppData\\Roaming\\Python\\Python39\\site-packages\\tensorflow\\python\\eager\\function.py\u001b[0m in \u001b[0;36mcall\u001b[1;34m(self, ctx, args, cancellation_manager)\u001b[0m\n\u001b[0;32m    495\u001b[0m       \u001b[1;32mwith\u001b[0m \u001b[0m_InterpolateFunctionError\u001b[0m\u001b[1;33m(\u001b[0m\u001b[0mself\u001b[0m\u001b[1;33m)\u001b[0m\u001b[1;33m:\u001b[0m\u001b[1;33m\u001b[0m\u001b[1;33m\u001b[0m\u001b[0m\n\u001b[0;32m    496\u001b[0m         \u001b[1;32mif\u001b[0m \u001b[0mcancellation_manager\u001b[0m \u001b[1;32mis\u001b[0m \u001b[1;32mNone\u001b[0m\u001b[1;33m:\u001b[0m\u001b[1;33m\u001b[0m\u001b[1;33m\u001b[0m\u001b[0m\n\u001b[1;32m--> 497\u001b[1;33m           outputs = execute.execute(\n\u001b[0m\u001b[0;32m    498\u001b[0m               \u001b[0mstr\u001b[0m\u001b[1;33m(\u001b[0m\u001b[0mself\u001b[0m\u001b[1;33m.\u001b[0m\u001b[0msignature\u001b[0m\u001b[1;33m.\u001b[0m\u001b[0mname\u001b[0m\u001b[1;33m)\u001b[0m\u001b[1;33m,\u001b[0m\u001b[1;33m\u001b[0m\u001b[1;33m\u001b[0m\u001b[0m\n\u001b[0;32m    499\u001b[0m               \u001b[0mnum_outputs\u001b[0m\u001b[1;33m=\u001b[0m\u001b[0mself\u001b[0m\u001b[1;33m.\u001b[0m\u001b[0m_num_outputs\u001b[0m\u001b[1;33m,\u001b[0m\u001b[1;33m\u001b[0m\u001b[1;33m\u001b[0m\u001b[0m\n",
      "\u001b[1;32m~\\AppData\\Roaming\\Python\\Python39\\site-packages\\tensorflow\\python\\eager\\execute.py\u001b[0m in \u001b[0;36mquick_execute\u001b[1;34m(op_name, num_outputs, inputs, attrs, ctx, name)\u001b[0m\n\u001b[0;32m     52\u001b[0m   \u001b[1;32mtry\u001b[0m\u001b[1;33m:\u001b[0m\u001b[1;33m\u001b[0m\u001b[1;33m\u001b[0m\u001b[0m\n\u001b[0;32m     53\u001b[0m     \u001b[0mctx\u001b[0m\u001b[1;33m.\u001b[0m\u001b[0mensure_initialized\u001b[0m\u001b[1;33m(\u001b[0m\u001b[1;33m)\u001b[0m\u001b[1;33m\u001b[0m\u001b[1;33m\u001b[0m\u001b[0m\n\u001b[1;32m---> 54\u001b[1;33m     tensors = pywrap_tfe.TFE_Py_Execute(ctx._handle, device_name, op_name,\n\u001b[0m\u001b[0;32m     55\u001b[0m                                         inputs, attrs, num_outputs)\n\u001b[0;32m     56\u001b[0m   \u001b[1;32mexcept\u001b[0m \u001b[0mcore\u001b[0m\u001b[1;33m.\u001b[0m\u001b[0m_NotOkStatusException\u001b[0m \u001b[1;32mas\u001b[0m \u001b[0me\u001b[0m\u001b[1;33m:\u001b[0m\u001b[1;33m\u001b[0m\u001b[1;33m\u001b[0m\u001b[0m\n",
      "\u001b[1;31mKeyboardInterrupt\u001b[0m: "
     ]
    }
   ],
   "source": [
    "#tanh\n",
    "#LEARNING RATE =  0.0001\n",
    "rms = keras.optimizers.RMSprop(learning_rate=0.0001)\n",
    "\n",
    "model2.compile(optimizer=rms, loss='mse',  metrics=['mse','mae','acc'])\n",
    "history = model2.fit(X_train, y_train, epochs=50, batch_size=256,  verbose=1, validation_split=0.2)"
   ]
  },
  {
   "cell_type": "code",
   "execution_count": null,
   "id": "3d179709",
   "metadata": {},
   "outputs": [],
   "source": [
    "historyOut(history)"
   ]
  },
  {
   "cell_type": "markdown",
   "id": "a3fa627f",
   "metadata": {},
   "source": [
    "# Model 3: Activation = ReLU, Hidden Layers: 1(8 units), 2(8 units),3(4 units)"
   ]
  },
  {
   "cell_type": "code",
   "execution_count": null,
   "id": "dd2c4bcd",
   "metadata": {},
   "outputs": [],
   "source": [
    "#Activation: ReLU\n",
    "model3 = Sequential()\n",
    "model3.add(Dense(8, input_dim=13, kernel_initializer='normal', activation='relu'))\n",
    "model3.add(Dense(8, activation='relu'))\n",
    "model3.add(Dense(4, activation='relu'))\n",
    "model3.add(Dense(1, activation='linear'))\n",
    "model3.summary()"
   ]
  },
  {
   "cell_type": "code",
   "execution_count": null,
   "id": "e2de4f6d",
   "metadata": {},
   "outputs": [],
   "source": [
    "#ReLU 2\n",
    "#LEARNING RATE 0.01\n",
    "rms = keras.optimizers.RMSprop(learning_rate=0.01)\n",
    "\n",
    "model3.compile(optimizer=rms, loss='mse',  metrics=['mse','mae','acc'])\n",
    "history = model3.fit(X_train, y_train, epochs=50, batch_size=256,  verbose=1, validation_split=0.2)"
   ]
  },
  {
   "cell_type": "code",
   "execution_count": null,
   "id": "90178a27",
   "metadata": {},
   "outputs": [],
   "source": [
    "historyOut(history)"
   ]
  },
  {
   "cell_type": "code",
   "execution_count": null,
   "id": "4ea7856f",
   "metadata": {},
   "outputs": [],
   "source": [
    " #ReLU 2\n",
    "#LEARNING RATE 0.001\n",
    "rms = keras.optimizers.RMSprop(learning_rate=0.001)\n",
    "\n",
    "model3.compile(optimizer=rms, loss='mse',  metrics=['mse','mae','acc'])\n",
    "history = model3.fit(X_train, y_train, epochs=50, batch_size=256,  verbose=1, validation_split=0.2)"
   ]
  },
  {
   "cell_type": "code",
   "execution_count": null,
   "id": "3f55f533",
   "metadata": {
    "scrolled": true
   },
   "outputs": [],
   "source": [
    "historyOut(history)"
   ]
  },
  {
   "cell_type": "code",
   "execution_count": null,
   "id": "8b20b28c",
   "metadata": {},
   "outputs": [],
   "source": [
    "#ReLU 2\n",
    "#LEARNING RATE 0.0001\n",
    "rms = keras.optimizers.RMSprop(learning_rate=0.0001)\n",
    "\n",
    "model3.compile(optimizer=rms, loss='mse',  metrics=['mse','mae','acc'])\n",
    "history = model3.fit(X_train, y_train, epochs=50, batch_size=256,  verbose=1, validation_split=0.2)"
   ]
  },
  {
   "cell_type": "code",
   "execution_count": null,
   "id": "1c9e088d",
   "metadata": {},
   "outputs": [],
   "source": [
    "historyOut(history)"
   ]
  },
  {
   "cell_type": "markdown",
   "id": "fdc20791",
   "metadata": {},
   "source": [
    "# Model 4: Neural Network with optimal hyperparameters\n",
    "This model will be fitted with varying batch sizes and epoch counts in order to determine \n",
    "which combination will yeild the highest accuracy for our model.\n",
    "\n",
    "Activation function: tanh\n",
    "Hidden layers:1(12 units), 2(8 units), 3(8 units), 4(8 units) \n",
    "Learning Rate:\n",
    "\n",
    "\n",
    "\n"
   ]
  },
  {
   "cell_type": "code",
   "execution_count": 51,
   "id": "f17d6743",
   "metadata": {},
   "outputs": [
    {
     "name": "stdout",
     "output_type": "stream",
     "text": [
      "Model: \"sequential_4\"\n",
      "_________________________________________________________________\n",
      " Layer (type)                Output Shape              Param #   \n",
      "=================================================================\n",
      " dense_14 (Dense)            (None, 12)                156       \n",
      "                                                                 \n",
      " dense_15 (Dense)            (None, 8)                 104       \n",
      "                                                                 \n",
      " dense_16 (Dense)            (None, 8)                 72        \n",
      "                                                                 \n",
      " dense_17 (Dense)            (None, 8)                 72        \n",
      "                                                                 \n",
      " dense_18 (Dense)            (None, 1)                 9         \n",
      "                                                                 \n",
      "=================================================================\n",
      "Total params: 413\n",
      "Trainable params: 413\n",
      "Non-trainable params: 0\n",
      "_________________________________________________________________\n"
     ]
    }
   ],
   "source": [
    "#Activation: ReLU\n",
    "model4 = Sequential()\n",
    "model4.add(Dense(12, input_dim=13, kernel_initializer='normal', activation='tanh'))\n",
    "model4.add(Dense(8, activation='tanh'))\n",
    "model4.add(Dense(8, activation='tanh'))\n",
    "model4.add(Dense(8, activation='tanh'))\n",
    "model4.add(Dense(1, activation='linear'))\n",
    "model4.summary()"
   ]
  },
  {
   "cell_type": "code",
   "execution_count": 42,
   "id": "1801474b",
   "metadata": {},
   "outputs": [
    {
     "name": "stdout",
     "output_type": "stream",
     "text": [
      "Epoch 1/50\n",
      "2665/2665 [==============================] - 14s 5ms/step - loss: 1.4945e-05 - mse: 1.4948e-05 - mae: 0.0015 - acc: 0.0445 - val_loss: 3.6273e-06 - val_mse: 3.6279e-06 - val_mae: 0.0019 - val_acc: 0.0456\n",
      "Epoch 2/50\n",
      "2049/2665 [======================>.......] - ETA: 3s - loss: 1.6856e-05 - mse: 1.6857e-05 - mae: 0.0014 - acc: 0.0442"
     ]
    },
    {
     "ename": "KeyboardInterrupt",
     "evalue": "",
     "output_type": "error",
     "traceback": [
      "\u001b[1;31m---------------------------------------------------------------------------\u001b[0m",
      "\u001b[1;31mKeyboardInterrupt\u001b[0m                         Traceback (most recent call last)",
      "\u001b[1;32m~\\AppData\\Local\\Temp/ipykernel_10660/3445828718.py\u001b[0m in \u001b[0;36m<module>\u001b[1;34m\u001b[0m\n\u001b[0;32m      4\u001b[0m \u001b[1;33m\u001b[0m\u001b[0m\n\u001b[0;32m      5\u001b[0m \u001b[0mmodel4\u001b[0m\u001b[1;33m.\u001b[0m\u001b[0mcompile\u001b[0m\u001b[1;33m(\u001b[0m\u001b[0moptimizer\u001b[0m\u001b[1;33m=\u001b[0m\u001b[0mrms\u001b[0m\u001b[1;33m,\u001b[0m \u001b[0mloss\u001b[0m\u001b[1;33m=\u001b[0m\u001b[1;34m'mse'\u001b[0m\u001b[1;33m,\u001b[0m  \u001b[0mmetrics\u001b[0m\u001b[1;33m=\u001b[0m\u001b[1;33m[\u001b[0m\u001b[1;34m'mse'\u001b[0m\u001b[1;33m,\u001b[0m\u001b[1;34m'mae'\u001b[0m\u001b[1;33m,\u001b[0m\u001b[1;34m'acc'\u001b[0m\u001b[1;33m]\u001b[0m\u001b[1;33m)\u001b[0m\u001b[1;33m\u001b[0m\u001b[1;33m\u001b[0m\u001b[0m\n\u001b[1;32m----> 6\u001b[1;33m \u001b[0mhistory\u001b[0m \u001b[1;33m=\u001b[0m \u001b[0mmodel4\u001b[0m\u001b[1;33m.\u001b[0m\u001b[0mfit\u001b[0m\u001b[1;33m(\u001b[0m\u001b[0mX_train\u001b[0m\u001b[1;33m,\u001b[0m \u001b[0my_train\u001b[0m\u001b[1;33m,\u001b[0m \u001b[0mepochs\u001b[0m\u001b[1;33m=\u001b[0m\u001b[1;36m50\u001b[0m\u001b[1;33m,\u001b[0m \u001b[0mbatch_size\u001b[0m\u001b[1;33m=\u001b[0m\u001b[1;36m32\u001b[0m\u001b[1;33m,\u001b[0m  \u001b[0mverbose\u001b[0m\u001b[1;33m=\u001b[0m\u001b[1;36m1\u001b[0m\u001b[1;33m,\u001b[0m \u001b[0mvalidation_split\u001b[0m\u001b[1;33m=\u001b[0m\u001b[1;36m0.2\u001b[0m\u001b[1;33m)\u001b[0m\u001b[1;33m\u001b[0m\u001b[1;33m\u001b[0m\u001b[0m\n\u001b[0m",
      "\u001b[1;32m~\\AppData\\Roaming\\Python\\Python39\\site-packages\\keras\\utils\\traceback_utils.py\u001b[0m in \u001b[0;36merror_handler\u001b[1;34m(*args, **kwargs)\u001b[0m\n\u001b[0;32m     62\u001b[0m     \u001b[0mfiltered_tb\u001b[0m \u001b[1;33m=\u001b[0m \u001b[1;32mNone\u001b[0m\u001b[1;33m\u001b[0m\u001b[1;33m\u001b[0m\u001b[0m\n\u001b[0;32m     63\u001b[0m     \u001b[1;32mtry\u001b[0m\u001b[1;33m:\u001b[0m\u001b[1;33m\u001b[0m\u001b[1;33m\u001b[0m\u001b[0m\n\u001b[1;32m---> 64\u001b[1;33m       \u001b[1;32mreturn\u001b[0m \u001b[0mfn\u001b[0m\u001b[1;33m(\u001b[0m\u001b[1;33m*\u001b[0m\u001b[0margs\u001b[0m\u001b[1;33m,\u001b[0m \u001b[1;33m**\u001b[0m\u001b[0mkwargs\u001b[0m\u001b[1;33m)\u001b[0m\u001b[1;33m\u001b[0m\u001b[1;33m\u001b[0m\u001b[0m\n\u001b[0m\u001b[0;32m     65\u001b[0m     \u001b[1;32mexcept\u001b[0m \u001b[0mException\u001b[0m \u001b[1;32mas\u001b[0m \u001b[0me\u001b[0m\u001b[1;33m:\u001b[0m  \u001b[1;31m# pylint: disable=broad-except\u001b[0m\u001b[1;33m\u001b[0m\u001b[1;33m\u001b[0m\u001b[0m\n\u001b[0;32m     66\u001b[0m       \u001b[0mfiltered_tb\u001b[0m \u001b[1;33m=\u001b[0m \u001b[0m_process_traceback_frames\u001b[0m\u001b[1;33m(\u001b[0m\u001b[0me\u001b[0m\u001b[1;33m.\u001b[0m\u001b[0m__traceback__\u001b[0m\u001b[1;33m)\u001b[0m\u001b[1;33m\u001b[0m\u001b[1;33m\u001b[0m\u001b[0m\n",
      "\u001b[1;32m~\\AppData\\Roaming\\Python\\Python39\\site-packages\\keras\\engine\\training.py\u001b[0m in \u001b[0;36mfit\u001b[1;34m(self, x, y, batch_size, epochs, verbose, callbacks, validation_split, validation_data, shuffle, class_weight, sample_weight, initial_epoch, steps_per_epoch, validation_steps, validation_batch_size, validation_freq, max_queue_size, workers, use_multiprocessing)\u001b[0m\n\u001b[0;32m   1407\u001b[0m                 _r=1):\n\u001b[0;32m   1408\u001b[0m               \u001b[0mcallbacks\u001b[0m\u001b[1;33m.\u001b[0m\u001b[0mon_train_batch_begin\u001b[0m\u001b[1;33m(\u001b[0m\u001b[0mstep\u001b[0m\u001b[1;33m)\u001b[0m\u001b[1;33m\u001b[0m\u001b[1;33m\u001b[0m\u001b[0m\n\u001b[1;32m-> 1409\u001b[1;33m               \u001b[0mtmp_logs\u001b[0m \u001b[1;33m=\u001b[0m \u001b[0mself\u001b[0m\u001b[1;33m.\u001b[0m\u001b[0mtrain_function\u001b[0m\u001b[1;33m(\u001b[0m\u001b[0miterator\u001b[0m\u001b[1;33m)\u001b[0m\u001b[1;33m\u001b[0m\u001b[1;33m\u001b[0m\u001b[0m\n\u001b[0m\u001b[0;32m   1410\u001b[0m               \u001b[1;32mif\u001b[0m \u001b[0mdata_handler\u001b[0m\u001b[1;33m.\u001b[0m\u001b[0mshould_sync\u001b[0m\u001b[1;33m:\u001b[0m\u001b[1;33m\u001b[0m\u001b[1;33m\u001b[0m\u001b[0m\n\u001b[0;32m   1411\u001b[0m                 \u001b[0mcontext\u001b[0m\u001b[1;33m.\u001b[0m\u001b[0masync_wait\u001b[0m\u001b[1;33m(\u001b[0m\u001b[1;33m)\u001b[0m\u001b[1;33m\u001b[0m\u001b[1;33m\u001b[0m\u001b[0m\n",
      "\u001b[1;32m~\\AppData\\Roaming\\Python\\Python39\\site-packages\\tensorflow\\python\\util\\traceback_utils.py\u001b[0m in \u001b[0;36merror_handler\u001b[1;34m(*args, **kwargs)\u001b[0m\n\u001b[0;32m    148\u001b[0m     \u001b[0mfiltered_tb\u001b[0m \u001b[1;33m=\u001b[0m \u001b[1;32mNone\u001b[0m\u001b[1;33m\u001b[0m\u001b[1;33m\u001b[0m\u001b[0m\n\u001b[0;32m    149\u001b[0m     \u001b[1;32mtry\u001b[0m\u001b[1;33m:\u001b[0m\u001b[1;33m\u001b[0m\u001b[1;33m\u001b[0m\u001b[0m\n\u001b[1;32m--> 150\u001b[1;33m       \u001b[1;32mreturn\u001b[0m \u001b[0mfn\u001b[0m\u001b[1;33m(\u001b[0m\u001b[1;33m*\u001b[0m\u001b[0margs\u001b[0m\u001b[1;33m,\u001b[0m \u001b[1;33m**\u001b[0m\u001b[0mkwargs\u001b[0m\u001b[1;33m)\u001b[0m\u001b[1;33m\u001b[0m\u001b[1;33m\u001b[0m\u001b[0m\n\u001b[0m\u001b[0;32m    151\u001b[0m     \u001b[1;32mexcept\u001b[0m \u001b[0mException\u001b[0m \u001b[1;32mas\u001b[0m \u001b[0me\u001b[0m\u001b[1;33m:\u001b[0m\u001b[1;33m\u001b[0m\u001b[1;33m\u001b[0m\u001b[0m\n\u001b[0;32m    152\u001b[0m       \u001b[0mfiltered_tb\u001b[0m \u001b[1;33m=\u001b[0m \u001b[0m_process_traceback_frames\u001b[0m\u001b[1;33m(\u001b[0m\u001b[0me\u001b[0m\u001b[1;33m.\u001b[0m\u001b[0m__traceback__\u001b[0m\u001b[1;33m)\u001b[0m\u001b[1;33m\u001b[0m\u001b[1;33m\u001b[0m\u001b[0m\n",
      "\u001b[1;32m~\\AppData\\Roaming\\Python\\Python39\\site-packages\\tensorflow\\python\\eager\\def_function.py\u001b[0m in \u001b[0;36m__call__\u001b[1;34m(self, *args, **kwds)\u001b[0m\n\u001b[0;32m    913\u001b[0m \u001b[1;33m\u001b[0m\u001b[0m\n\u001b[0;32m    914\u001b[0m       \u001b[1;32mwith\u001b[0m \u001b[0mOptionalXlaContext\u001b[0m\u001b[1;33m(\u001b[0m\u001b[0mself\u001b[0m\u001b[1;33m.\u001b[0m\u001b[0m_jit_compile\u001b[0m\u001b[1;33m)\u001b[0m\u001b[1;33m:\u001b[0m\u001b[1;33m\u001b[0m\u001b[1;33m\u001b[0m\u001b[0m\n\u001b[1;32m--> 915\u001b[1;33m         \u001b[0mresult\u001b[0m \u001b[1;33m=\u001b[0m \u001b[0mself\u001b[0m\u001b[1;33m.\u001b[0m\u001b[0m_call\u001b[0m\u001b[1;33m(\u001b[0m\u001b[1;33m*\u001b[0m\u001b[0margs\u001b[0m\u001b[1;33m,\u001b[0m \u001b[1;33m**\u001b[0m\u001b[0mkwds\u001b[0m\u001b[1;33m)\u001b[0m\u001b[1;33m\u001b[0m\u001b[1;33m\u001b[0m\u001b[0m\n\u001b[0m\u001b[0;32m    916\u001b[0m \u001b[1;33m\u001b[0m\u001b[0m\n\u001b[0;32m    917\u001b[0m       \u001b[0mnew_tracing_count\u001b[0m \u001b[1;33m=\u001b[0m \u001b[0mself\u001b[0m\u001b[1;33m.\u001b[0m\u001b[0mexperimental_get_tracing_count\u001b[0m\u001b[1;33m(\u001b[0m\u001b[1;33m)\u001b[0m\u001b[1;33m\u001b[0m\u001b[1;33m\u001b[0m\u001b[0m\n",
      "\u001b[1;32m~\\AppData\\Roaming\\Python\\Python39\\site-packages\\tensorflow\\python\\eager\\def_function.py\u001b[0m in \u001b[0;36m_call\u001b[1;34m(self, *args, **kwds)\u001b[0m\n\u001b[0;32m    945\u001b[0m       \u001b[1;31m# In this case we have created variables on the first call, so we run the\u001b[0m\u001b[1;33m\u001b[0m\u001b[1;33m\u001b[0m\u001b[0m\n\u001b[0;32m    946\u001b[0m       \u001b[1;31m# defunned version which is guaranteed to never create variables.\u001b[0m\u001b[1;33m\u001b[0m\u001b[1;33m\u001b[0m\u001b[0m\n\u001b[1;32m--> 947\u001b[1;33m       \u001b[1;32mreturn\u001b[0m \u001b[0mself\u001b[0m\u001b[1;33m.\u001b[0m\u001b[0m_stateless_fn\u001b[0m\u001b[1;33m(\u001b[0m\u001b[1;33m*\u001b[0m\u001b[0margs\u001b[0m\u001b[1;33m,\u001b[0m \u001b[1;33m**\u001b[0m\u001b[0mkwds\u001b[0m\u001b[1;33m)\u001b[0m  \u001b[1;31m# pylint: disable=not-callable\u001b[0m\u001b[1;33m\u001b[0m\u001b[1;33m\u001b[0m\u001b[0m\n\u001b[0m\u001b[0;32m    948\u001b[0m     \u001b[1;32melif\u001b[0m \u001b[0mself\u001b[0m\u001b[1;33m.\u001b[0m\u001b[0m_stateful_fn\u001b[0m \u001b[1;32mis\u001b[0m \u001b[1;32mnot\u001b[0m \u001b[1;32mNone\u001b[0m\u001b[1;33m:\u001b[0m\u001b[1;33m\u001b[0m\u001b[1;33m\u001b[0m\u001b[0m\n\u001b[0;32m    949\u001b[0m       \u001b[1;31m# Release the lock early so that multiple threads can perform the call\u001b[0m\u001b[1;33m\u001b[0m\u001b[1;33m\u001b[0m\u001b[0m\n",
      "\u001b[1;32m~\\AppData\\Roaming\\Python\\Python39\\site-packages\\tensorflow\\python\\eager\\function.py\u001b[0m in \u001b[0;36m__call__\u001b[1;34m(self, *args, **kwargs)\u001b[0m\n\u001b[0;32m   2451\u001b[0m       (graph_function,\n\u001b[0;32m   2452\u001b[0m        filtered_flat_args) = self._maybe_define_function(args, kwargs)\n\u001b[1;32m-> 2453\u001b[1;33m     return graph_function._call_flat(\n\u001b[0m\u001b[0;32m   2454\u001b[0m         filtered_flat_args, captured_inputs=graph_function.captured_inputs)  # pylint: disable=protected-access\n\u001b[0;32m   2455\u001b[0m \u001b[1;33m\u001b[0m\u001b[0m\n",
      "\u001b[1;32m~\\AppData\\Roaming\\Python\\Python39\\site-packages\\tensorflow\\python\\eager\\function.py\u001b[0m in \u001b[0;36m_call_flat\u001b[1;34m(self, args, captured_inputs, cancellation_manager)\u001b[0m\n\u001b[0;32m   1858\u001b[0m         and executing_eagerly):\n\u001b[0;32m   1859\u001b[0m       \u001b[1;31m# No tape is watching; skip to running the function.\u001b[0m\u001b[1;33m\u001b[0m\u001b[1;33m\u001b[0m\u001b[0m\n\u001b[1;32m-> 1860\u001b[1;33m       return self._build_call_outputs(self._inference_function.call(\n\u001b[0m\u001b[0;32m   1861\u001b[0m           ctx, args, cancellation_manager=cancellation_manager))\n\u001b[0;32m   1862\u001b[0m     forward_backward = self._select_forward_and_backward_functions(\n",
      "\u001b[1;32m~\\AppData\\Roaming\\Python\\Python39\\site-packages\\tensorflow\\python\\eager\\function.py\u001b[0m in \u001b[0;36mcall\u001b[1;34m(self, ctx, args, cancellation_manager)\u001b[0m\n\u001b[0;32m    495\u001b[0m       \u001b[1;32mwith\u001b[0m \u001b[0m_InterpolateFunctionError\u001b[0m\u001b[1;33m(\u001b[0m\u001b[0mself\u001b[0m\u001b[1;33m)\u001b[0m\u001b[1;33m:\u001b[0m\u001b[1;33m\u001b[0m\u001b[1;33m\u001b[0m\u001b[0m\n\u001b[0;32m    496\u001b[0m         \u001b[1;32mif\u001b[0m \u001b[0mcancellation_manager\u001b[0m \u001b[1;32mis\u001b[0m \u001b[1;32mNone\u001b[0m\u001b[1;33m:\u001b[0m\u001b[1;33m\u001b[0m\u001b[1;33m\u001b[0m\u001b[0m\n\u001b[1;32m--> 497\u001b[1;33m           outputs = execute.execute(\n\u001b[0m\u001b[0;32m    498\u001b[0m               \u001b[0mstr\u001b[0m\u001b[1;33m(\u001b[0m\u001b[0mself\u001b[0m\u001b[1;33m.\u001b[0m\u001b[0msignature\u001b[0m\u001b[1;33m.\u001b[0m\u001b[0mname\u001b[0m\u001b[1;33m)\u001b[0m\u001b[1;33m,\u001b[0m\u001b[1;33m\u001b[0m\u001b[1;33m\u001b[0m\u001b[0m\n\u001b[0;32m    499\u001b[0m               \u001b[0mnum_outputs\u001b[0m\u001b[1;33m=\u001b[0m\u001b[0mself\u001b[0m\u001b[1;33m.\u001b[0m\u001b[0m_num_outputs\u001b[0m\u001b[1;33m,\u001b[0m\u001b[1;33m\u001b[0m\u001b[1;33m\u001b[0m\u001b[0m\n",
      "\u001b[1;32m~\\AppData\\Roaming\\Python\\Python39\\site-packages\\tensorflow\\python\\eager\\execute.py\u001b[0m in \u001b[0;36mquick_execute\u001b[1;34m(op_name, num_outputs, inputs, attrs, ctx, name)\u001b[0m\n\u001b[0;32m     52\u001b[0m   \u001b[1;32mtry\u001b[0m\u001b[1;33m:\u001b[0m\u001b[1;33m\u001b[0m\u001b[1;33m\u001b[0m\u001b[0m\n\u001b[0;32m     53\u001b[0m     \u001b[0mctx\u001b[0m\u001b[1;33m.\u001b[0m\u001b[0mensure_initialized\u001b[0m\u001b[1;33m(\u001b[0m\u001b[1;33m)\u001b[0m\u001b[1;33m\u001b[0m\u001b[1;33m\u001b[0m\u001b[0m\n\u001b[1;32m---> 54\u001b[1;33m     tensors = pywrap_tfe.TFE_Py_Execute(ctx._handle, device_name, op_name,\n\u001b[0m\u001b[0;32m     55\u001b[0m                                         inputs, attrs, num_outputs)\n\u001b[0;32m     56\u001b[0m   \u001b[1;32mexcept\u001b[0m \u001b[0mcore\u001b[0m\u001b[1;33m.\u001b[0m\u001b[0m_NotOkStatusException\u001b[0m \u001b[1;32mas\u001b[0m \u001b[0me\u001b[0m\u001b[1;33m:\u001b[0m\u001b[1;33m\u001b[0m\u001b[1;33m\u001b[0m\u001b[0m\n",
      "\u001b[1;31mKeyboardInterrupt\u001b[0m: "
     ]
    }
   ],
   "source": [
    "#ReLU 3\n",
    "#LEARNING RATE 0.0001\n",
    "rms = keras.optimizers.RMSprop(learning_rate=0.0001)\n",
    "\n",
    "model4.compile(optimizer=rms, loss='mse',  metrics=['mse','mae','acc'])\n",
    "history = model4.fit(X_train, y_train, epochs=50, batch_size=32,  verbose=1, validation_split=0.2)"
   ]
  },
  {
   "cell_type": "code",
   "execution_count": null,
   "id": "508831c3",
   "metadata": {},
   "outputs": [],
   "source": [
    "historyOut(history)"
   ]
  },
  {
   "cell_type": "code",
   "execution_count": null,
   "id": "de10aa9c",
   "metadata": {},
   "outputs": [],
   "source": [
    "#ReLU 3\n",
    "#LEARNING RATE 0.0001\n",
    "rms = keras.optimizers.RMSprop(learning_rate=0.0001)\n",
    "\n",
    "model4.compile(optimizer=rms, loss='mse',  metrics=['mse','mae','acc'])\n",
    "history = model4.fit(X_train, y_train, epochs=50, batch_size=128,  verbose=1, validation_split=0.2)"
   ]
  },
  {
   "cell_type": "code",
   "execution_count": null,
   "id": "bac9e2c4",
   "metadata": {},
   "outputs": [],
   "source": [
    "historyOut(history)"
   ]
  },
  {
   "cell_type": "code",
   "execution_count": null,
   "id": "dacfd201",
   "metadata": {},
   "outputs": [],
   "source": [
    "#ReLU 3\n",
    "#LEARNING RATE 0.0001\n",
    "rms = keras.optimizers.RMSprop(learning_rate=0.0001)\n",
    "\n",
    "model4.compile(optimizer=rms, loss='mse',  metrics=['mse','mae','acc'])\n",
    "history = model4.fit(X_train, y_train, epochs=50, batch_size=256,  verbose=1, validation_split=0.2)"
   ]
  },
  {
   "cell_type": "code",
   "execution_count": null,
   "id": "28c194df",
   "metadata": {},
   "outputs": [],
   "source": [
    "historyOut(history)"
   ]
  },
  {
   "cell_type": "code",
   "execution_count": null,
   "id": "35f7a2ec",
   "metadata": {},
   "outputs": [],
   "source": [
    "#ReLU 3\n",
    "#LEARNING RATE 0.0001\n",
    "rms = keras.optimizers.RMSprop(learning_rate=0.0001)\n",
    "\n",
    "model4.compile(optimizer=rms, loss='mse',  metrics=['mse','mae','acc'])\n",
    "history = model4.fit(X_train, y_train, epochs=150, batch_size=256,  verbose=1, validation_split=0.2)"
   ]
  },
  {
   "cell_type": "code",
   "execution_count": null,
   "id": "1e1565b9",
   "metadata": {},
   "outputs": [],
   "source": [
    "historyOut(history)"
   ]
  },
  {
   "cell_type": "code",
   "execution_count": 52,
   "id": "c5953b09",
   "metadata": {},
   "outputs": [
    {
     "name": "stdout",
     "output_type": "stream",
     "text": [
      "Epoch 1/200\n",
      "192/192 [==============================] - 2s 6ms/step - loss: 8.5670e-04 - mse: 8.5679e-04 - mae: 0.0204 - acc: 0.0446 - val_loss: 6.2608e-05 - val_mse: 6.2611e-05 - val_mae: 0.0064 - val_acc: 0.0442\n",
      "Epoch 2/200\n",
      "192/192 [==============================] - 1s 6ms/step - loss: 2.2449e-05 - mse: 2.2465e-05 - mae: 0.0023 - acc: 0.0446 - val_loss: 2.3842e-06 - val_mse: 2.3856e-06 - val_mae: 0.0014 - val_acc: 0.0442\n",
      "Epoch 3/200\n",
      "192/192 [==============================] - 1s 6ms/step - loss: 1.2622e-05 - mse: 1.2632e-05 - mae: 0.0011 - acc: 0.0446 - val_loss: 8.2294e-07 - val_mse: 8.2315e-07 - val_mae: 6.8680e-04 - val_acc: 0.0442\n",
      "Epoch 4/200\n",
      "192/192 [==============================] - 1s 5ms/step - loss: 1.2423e-05 - mse: 1.2426e-05 - mae: 0.0011 - acc: 0.0446 - val_loss: 1.5804e-06 - val_mse: 1.5782e-06 - val_mae: 0.0011 - val_acc: 0.0442\n",
      "Epoch 5/200\n",
      "192/192 [==============================] - 1s 5ms/step - loss: 1.2287e-05 - mse: 1.2288e-05 - mae: 0.0011 - acc: 0.0446 - val_loss: 1.3771e-06 - val_mse: 1.3720e-06 - val_mae: 0.0011 - val_acc: 0.0442\n",
      "Epoch 6/200\n",
      " 23/192 [==>...........................] - ETA: 0s - loss: 1.2750e-06 - mse: 1.2777e-06 - mae: 0.0010 - acc: 0.0434"
     ]
    },
    {
     "ename": "KeyboardInterrupt",
     "evalue": "",
     "output_type": "error",
     "traceback": [
      "\u001b[1;31m---------------------------------------------------------------------------\u001b[0m",
      "\u001b[1;31mKeyboardInterrupt\u001b[0m                         Traceback (most recent call last)",
      "\u001b[1;32m~\\AppData\\Local\\Temp/ipykernel_10660/3649469560.py\u001b[0m in \u001b[0;36m<module>\u001b[1;34m\u001b[0m\n\u001b[0;32m      4\u001b[0m \u001b[1;33m\u001b[0m\u001b[0m\n\u001b[0;32m      5\u001b[0m \u001b[0mmodel4\u001b[0m\u001b[1;33m.\u001b[0m\u001b[0mcompile\u001b[0m\u001b[1;33m(\u001b[0m\u001b[0moptimizer\u001b[0m\u001b[1;33m=\u001b[0m\u001b[0mrms\u001b[0m\u001b[1;33m,\u001b[0m \u001b[0mloss\u001b[0m\u001b[1;33m=\u001b[0m\u001b[1;34m'mse'\u001b[0m\u001b[1;33m,\u001b[0m  \u001b[0mmetrics\u001b[0m\u001b[1;33m=\u001b[0m\u001b[1;33m[\u001b[0m\u001b[1;34m'mse'\u001b[0m\u001b[1;33m,\u001b[0m\u001b[1;34m'mae'\u001b[0m\u001b[1;33m,\u001b[0m\u001b[1;34m'acc'\u001b[0m\u001b[1;33m]\u001b[0m\u001b[1;33m)\u001b[0m\u001b[1;33m\u001b[0m\u001b[1;33m\u001b[0m\u001b[0m\n\u001b[1;32m----> 6\u001b[1;33m \u001b[0mhistory\u001b[0m \u001b[1;33m=\u001b[0m \u001b[0mmodel4\u001b[0m\u001b[1;33m.\u001b[0m\u001b[0mfit\u001b[0m\u001b[1;33m(\u001b[0m\u001b[0mX_train\u001b[0m\u001b[1;33m,\u001b[0m \u001b[0my_train\u001b[0m\u001b[1;33m,\u001b[0m \u001b[0mepochs\u001b[0m\u001b[1;33m=\u001b[0m\u001b[1;36m200\u001b[0m\u001b[1;33m,\u001b[0m \u001b[0mbatch_size\u001b[0m\u001b[1;33m=\u001b[0m\u001b[1;36m512\u001b[0m\u001b[1;33m,\u001b[0m  \u001b[0mverbose\u001b[0m\u001b[1;33m=\u001b[0m\u001b[1;36m1\u001b[0m\u001b[1;33m,\u001b[0m \u001b[0mvalidation_split\u001b[0m\u001b[1;33m=\u001b[0m\u001b[1;36m0.2\u001b[0m\u001b[1;33m)\u001b[0m\u001b[1;33m\u001b[0m\u001b[1;33m\u001b[0m\u001b[0m\n\u001b[0m",
      "\u001b[1;32m~\\AppData\\Roaming\\Python\\Python39\\site-packages\\keras\\utils\\traceback_utils.py\u001b[0m in \u001b[0;36merror_handler\u001b[1;34m(*args, **kwargs)\u001b[0m\n\u001b[0;32m     62\u001b[0m     \u001b[0mfiltered_tb\u001b[0m \u001b[1;33m=\u001b[0m \u001b[1;32mNone\u001b[0m\u001b[1;33m\u001b[0m\u001b[1;33m\u001b[0m\u001b[0m\n\u001b[0;32m     63\u001b[0m     \u001b[1;32mtry\u001b[0m\u001b[1;33m:\u001b[0m\u001b[1;33m\u001b[0m\u001b[1;33m\u001b[0m\u001b[0m\n\u001b[1;32m---> 64\u001b[1;33m       \u001b[1;32mreturn\u001b[0m \u001b[0mfn\u001b[0m\u001b[1;33m(\u001b[0m\u001b[1;33m*\u001b[0m\u001b[0margs\u001b[0m\u001b[1;33m,\u001b[0m \u001b[1;33m**\u001b[0m\u001b[0mkwargs\u001b[0m\u001b[1;33m)\u001b[0m\u001b[1;33m\u001b[0m\u001b[1;33m\u001b[0m\u001b[0m\n\u001b[0m\u001b[0;32m     65\u001b[0m     \u001b[1;32mexcept\u001b[0m \u001b[0mException\u001b[0m \u001b[1;32mas\u001b[0m \u001b[0me\u001b[0m\u001b[1;33m:\u001b[0m  \u001b[1;31m# pylint: disable=broad-except\u001b[0m\u001b[1;33m\u001b[0m\u001b[1;33m\u001b[0m\u001b[0m\n\u001b[0;32m     66\u001b[0m       \u001b[0mfiltered_tb\u001b[0m \u001b[1;33m=\u001b[0m \u001b[0m_process_traceback_frames\u001b[0m\u001b[1;33m(\u001b[0m\u001b[0me\u001b[0m\u001b[1;33m.\u001b[0m\u001b[0m__traceback__\u001b[0m\u001b[1;33m)\u001b[0m\u001b[1;33m\u001b[0m\u001b[1;33m\u001b[0m\u001b[0m\n",
      "\u001b[1;32m~\\AppData\\Roaming\\Python\\Python39\\site-packages\\keras\\engine\\training.py\u001b[0m in \u001b[0;36mfit\u001b[1;34m(self, x, y, batch_size, epochs, verbose, callbacks, validation_split, validation_data, shuffle, class_weight, sample_weight, initial_epoch, steps_per_epoch, validation_steps, validation_batch_size, validation_freq, max_queue_size, workers, use_multiprocessing)\u001b[0m\n\u001b[0;32m   1407\u001b[0m                 _r=1):\n\u001b[0;32m   1408\u001b[0m               \u001b[0mcallbacks\u001b[0m\u001b[1;33m.\u001b[0m\u001b[0mon_train_batch_begin\u001b[0m\u001b[1;33m(\u001b[0m\u001b[0mstep\u001b[0m\u001b[1;33m)\u001b[0m\u001b[1;33m\u001b[0m\u001b[1;33m\u001b[0m\u001b[0m\n\u001b[1;32m-> 1409\u001b[1;33m               \u001b[0mtmp_logs\u001b[0m \u001b[1;33m=\u001b[0m \u001b[0mself\u001b[0m\u001b[1;33m.\u001b[0m\u001b[0mtrain_function\u001b[0m\u001b[1;33m(\u001b[0m\u001b[0miterator\u001b[0m\u001b[1;33m)\u001b[0m\u001b[1;33m\u001b[0m\u001b[1;33m\u001b[0m\u001b[0m\n\u001b[0m\u001b[0;32m   1410\u001b[0m               \u001b[1;32mif\u001b[0m \u001b[0mdata_handler\u001b[0m\u001b[1;33m.\u001b[0m\u001b[0mshould_sync\u001b[0m\u001b[1;33m:\u001b[0m\u001b[1;33m\u001b[0m\u001b[1;33m\u001b[0m\u001b[0m\n\u001b[0;32m   1411\u001b[0m                 \u001b[0mcontext\u001b[0m\u001b[1;33m.\u001b[0m\u001b[0masync_wait\u001b[0m\u001b[1;33m(\u001b[0m\u001b[1;33m)\u001b[0m\u001b[1;33m\u001b[0m\u001b[1;33m\u001b[0m\u001b[0m\n",
      "\u001b[1;32m~\\AppData\\Roaming\\Python\\Python39\\site-packages\\tensorflow\\python\\util\\traceback_utils.py\u001b[0m in \u001b[0;36merror_handler\u001b[1;34m(*args, **kwargs)\u001b[0m\n\u001b[0;32m    148\u001b[0m     \u001b[0mfiltered_tb\u001b[0m \u001b[1;33m=\u001b[0m \u001b[1;32mNone\u001b[0m\u001b[1;33m\u001b[0m\u001b[1;33m\u001b[0m\u001b[0m\n\u001b[0;32m    149\u001b[0m     \u001b[1;32mtry\u001b[0m\u001b[1;33m:\u001b[0m\u001b[1;33m\u001b[0m\u001b[1;33m\u001b[0m\u001b[0m\n\u001b[1;32m--> 150\u001b[1;33m       \u001b[1;32mreturn\u001b[0m \u001b[0mfn\u001b[0m\u001b[1;33m(\u001b[0m\u001b[1;33m*\u001b[0m\u001b[0margs\u001b[0m\u001b[1;33m,\u001b[0m \u001b[1;33m**\u001b[0m\u001b[0mkwargs\u001b[0m\u001b[1;33m)\u001b[0m\u001b[1;33m\u001b[0m\u001b[1;33m\u001b[0m\u001b[0m\n\u001b[0m\u001b[0;32m    151\u001b[0m     \u001b[1;32mexcept\u001b[0m \u001b[0mException\u001b[0m \u001b[1;32mas\u001b[0m \u001b[0me\u001b[0m\u001b[1;33m:\u001b[0m\u001b[1;33m\u001b[0m\u001b[1;33m\u001b[0m\u001b[0m\n\u001b[0;32m    152\u001b[0m       \u001b[0mfiltered_tb\u001b[0m \u001b[1;33m=\u001b[0m \u001b[0m_process_traceback_frames\u001b[0m\u001b[1;33m(\u001b[0m\u001b[0me\u001b[0m\u001b[1;33m.\u001b[0m\u001b[0m__traceback__\u001b[0m\u001b[1;33m)\u001b[0m\u001b[1;33m\u001b[0m\u001b[1;33m\u001b[0m\u001b[0m\n",
      "\u001b[1;32m~\\AppData\\Roaming\\Python\\Python39\\site-packages\\tensorflow\\python\\eager\\def_function.py\u001b[0m in \u001b[0;36m__call__\u001b[1;34m(self, *args, **kwds)\u001b[0m\n\u001b[0;32m    913\u001b[0m \u001b[1;33m\u001b[0m\u001b[0m\n\u001b[0;32m    914\u001b[0m       \u001b[1;32mwith\u001b[0m \u001b[0mOptionalXlaContext\u001b[0m\u001b[1;33m(\u001b[0m\u001b[0mself\u001b[0m\u001b[1;33m.\u001b[0m\u001b[0m_jit_compile\u001b[0m\u001b[1;33m)\u001b[0m\u001b[1;33m:\u001b[0m\u001b[1;33m\u001b[0m\u001b[1;33m\u001b[0m\u001b[0m\n\u001b[1;32m--> 915\u001b[1;33m         \u001b[0mresult\u001b[0m \u001b[1;33m=\u001b[0m \u001b[0mself\u001b[0m\u001b[1;33m.\u001b[0m\u001b[0m_call\u001b[0m\u001b[1;33m(\u001b[0m\u001b[1;33m*\u001b[0m\u001b[0margs\u001b[0m\u001b[1;33m,\u001b[0m \u001b[1;33m**\u001b[0m\u001b[0mkwds\u001b[0m\u001b[1;33m)\u001b[0m\u001b[1;33m\u001b[0m\u001b[1;33m\u001b[0m\u001b[0m\n\u001b[0m\u001b[0;32m    916\u001b[0m \u001b[1;33m\u001b[0m\u001b[0m\n\u001b[0;32m    917\u001b[0m       \u001b[0mnew_tracing_count\u001b[0m \u001b[1;33m=\u001b[0m \u001b[0mself\u001b[0m\u001b[1;33m.\u001b[0m\u001b[0mexperimental_get_tracing_count\u001b[0m\u001b[1;33m(\u001b[0m\u001b[1;33m)\u001b[0m\u001b[1;33m\u001b[0m\u001b[1;33m\u001b[0m\u001b[0m\n",
      "\u001b[1;32m~\\AppData\\Roaming\\Python\\Python39\\site-packages\\tensorflow\\python\\eager\\def_function.py\u001b[0m in \u001b[0;36m_call\u001b[1;34m(self, *args, **kwds)\u001b[0m\n\u001b[0;32m    945\u001b[0m       \u001b[1;31m# In this case we have created variables on the first call, so we run the\u001b[0m\u001b[1;33m\u001b[0m\u001b[1;33m\u001b[0m\u001b[0m\n\u001b[0;32m    946\u001b[0m       \u001b[1;31m# defunned version which is guaranteed to never create variables.\u001b[0m\u001b[1;33m\u001b[0m\u001b[1;33m\u001b[0m\u001b[0m\n\u001b[1;32m--> 947\u001b[1;33m       \u001b[1;32mreturn\u001b[0m \u001b[0mself\u001b[0m\u001b[1;33m.\u001b[0m\u001b[0m_stateless_fn\u001b[0m\u001b[1;33m(\u001b[0m\u001b[1;33m*\u001b[0m\u001b[0margs\u001b[0m\u001b[1;33m,\u001b[0m \u001b[1;33m**\u001b[0m\u001b[0mkwds\u001b[0m\u001b[1;33m)\u001b[0m  \u001b[1;31m# pylint: disable=not-callable\u001b[0m\u001b[1;33m\u001b[0m\u001b[1;33m\u001b[0m\u001b[0m\n\u001b[0m\u001b[0;32m    948\u001b[0m     \u001b[1;32melif\u001b[0m \u001b[0mself\u001b[0m\u001b[1;33m.\u001b[0m\u001b[0m_stateful_fn\u001b[0m \u001b[1;32mis\u001b[0m \u001b[1;32mnot\u001b[0m \u001b[1;32mNone\u001b[0m\u001b[1;33m:\u001b[0m\u001b[1;33m\u001b[0m\u001b[1;33m\u001b[0m\u001b[0m\n\u001b[0;32m    949\u001b[0m       \u001b[1;31m# Release the lock early so that multiple threads can perform the call\u001b[0m\u001b[1;33m\u001b[0m\u001b[1;33m\u001b[0m\u001b[0m\n",
      "\u001b[1;32m~\\AppData\\Roaming\\Python\\Python39\\site-packages\\tensorflow\\python\\eager\\function.py\u001b[0m in \u001b[0;36m__call__\u001b[1;34m(self, *args, **kwargs)\u001b[0m\n\u001b[0;32m   2451\u001b[0m       (graph_function,\n\u001b[0;32m   2452\u001b[0m        filtered_flat_args) = self._maybe_define_function(args, kwargs)\n\u001b[1;32m-> 2453\u001b[1;33m     return graph_function._call_flat(\n\u001b[0m\u001b[0;32m   2454\u001b[0m         filtered_flat_args, captured_inputs=graph_function.captured_inputs)  # pylint: disable=protected-access\n\u001b[0;32m   2455\u001b[0m \u001b[1;33m\u001b[0m\u001b[0m\n",
      "\u001b[1;32m~\\AppData\\Roaming\\Python\\Python39\\site-packages\\tensorflow\\python\\eager\\function.py\u001b[0m in \u001b[0;36m_call_flat\u001b[1;34m(self, args, captured_inputs, cancellation_manager)\u001b[0m\n\u001b[0;32m   1858\u001b[0m         and executing_eagerly):\n\u001b[0;32m   1859\u001b[0m       \u001b[1;31m# No tape is watching; skip to running the function.\u001b[0m\u001b[1;33m\u001b[0m\u001b[1;33m\u001b[0m\u001b[0m\n\u001b[1;32m-> 1860\u001b[1;33m       return self._build_call_outputs(self._inference_function.call(\n\u001b[0m\u001b[0;32m   1861\u001b[0m           ctx, args, cancellation_manager=cancellation_manager))\n\u001b[0;32m   1862\u001b[0m     forward_backward = self._select_forward_and_backward_functions(\n",
      "\u001b[1;32m~\\AppData\\Roaming\\Python\\Python39\\site-packages\\tensorflow\\python\\eager\\function.py\u001b[0m in \u001b[0;36mcall\u001b[1;34m(self, ctx, args, cancellation_manager)\u001b[0m\n\u001b[0;32m    495\u001b[0m       \u001b[1;32mwith\u001b[0m \u001b[0m_InterpolateFunctionError\u001b[0m\u001b[1;33m(\u001b[0m\u001b[0mself\u001b[0m\u001b[1;33m)\u001b[0m\u001b[1;33m:\u001b[0m\u001b[1;33m\u001b[0m\u001b[1;33m\u001b[0m\u001b[0m\n\u001b[0;32m    496\u001b[0m         \u001b[1;32mif\u001b[0m \u001b[0mcancellation_manager\u001b[0m \u001b[1;32mis\u001b[0m \u001b[1;32mNone\u001b[0m\u001b[1;33m:\u001b[0m\u001b[1;33m\u001b[0m\u001b[1;33m\u001b[0m\u001b[0m\n\u001b[1;32m--> 497\u001b[1;33m           outputs = execute.execute(\n\u001b[0m\u001b[0;32m    498\u001b[0m               \u001b[0mstr\u001b[0m\u001b[1;33m(\u001b[0m\u001b[0mself\u001b[0m\u001b[1;33m.\u001b[0m\u001b[0msignature\u001b[0m\u001b[1;33m.\u001b[0m\u001b[0mname\u001b[0m\u001b[1;33m)\u001b[0m\u001b[1;33m,\u001b[0m\u001b[1;33m\u001b[0m\u001b[1;33m\u001b[0m\u001b[0m\n\u001b[0;32m    499\u001b[0m               \u001b[0mnum_outputs\u001b[0m\u001b[1;33m=\u001b[0m\u001b[0mself\u001b[0m\u001b[1;33m.\u001b[0m\u001b[0m_num_outputs\u001b[0m\u001b[1;33m,\u001b[0m\u001b[1;33m\u001b[0m\u001b[1;33m\u001b[0m\u001b[0m\n",
      "\u001b[1;32m~\\AppData\\Roaming\\Python\\Python39\\site-packages\\tensorflow\\python\\eager\\execute.py\u001b[0m in \u001b[0;36mquick_execute\u001b[1;34m(op_name, num_outputs, inputs, attrs, ctx, name)\u001b[0m\n\u001b[0;32m     52\u001b[0m   \u001b[1;32mtry\u001b[0m\u001b[1;33m:\u001b[0m\u001b[1;33m\u001b[0m\u001b[1;33m\u001b[0m\u001b[0m\n\u001b[0;32m     53\u001b[0m     \u001b[0mctx\u001b[0m\u001b[1;33m.\u001b[0m\u001b[0mensure_initialized\u001b[0m\u001b[1;33m(\u001b[0m\u001b[1;33m)\u001b[0m\u001b[1;33m\u001b[0m\u001b[1;33m\u001b[0m\u001b[0m\n\u001b[1;32m---> 54\u001b[1;33m     tensors = pywrap_tfe.TFE_Py_Execute(ctx._handle, device_name, op_name,\n\u001b[0m\u001b[0;32m     55\u001b[0m                                         inputs, attrs, num_outputs)\n\u001b[0;32m     56\u001b[0m   \u001b[1;32mexcept\u001b[0m \u001b[0mcore\u001b[0m\u001b[1;33m.\u001b[0m\u001b[0m_NotOkStatusException\u001b[0m \u001b[1;32mas\u001b[0m \u001b[0me\u001b[0m\u001b[1;33m:\u001b[0m\u001b[1;33m\u001b[0m\u001b[1;33m\u001b[0m\u001b[0m\n",
      "\u001b[1;31mKeyboardInterrupt\u001b[0m: "
     ]
    }
   ],
   "source": [
    "#ReLU 3\n",
    "#LEARNING RATE 0.0001\n",
    "rms = keras.optimizers.RMSprop(learning_rate=0.0001)\n",
    "\n",
    "model4.compile(optimizer=rms, loss='mse',  metrics=['mse','mae','acc'])\n",
    "history = model4.fit(X_train, y_train, epochs=200, batch_size=512,  verbose=1, validation_split=0.2)"
   ]
  },
  {
   "cell_type": "code",
   "execution_count": null,
   "id": "9f06260c",
   "metadata": {},
   "outputs": [],
   "source": [
    "historyOut(history)"
   ]
  },
  {
   "cell_type": "code",
   "execution_count": null,
   "id": "78639a9e",
   "metadata": {},
   "outputs": [],
   "source": [
    "#ReLU 3\n",
    "#LEARNING RATE 0.0001\n",
    "rms = keras.optimizers.RMSprop(learning_rate=0.0001)\n",
    "\n",
    "model4.compile(optimizer=rms, loss='mse',  metrics=['mse','mae','acc'])\n",
    "history = model4.fit(X_train, y_train, epochs=150, batch_size=50,  verbose=1, validation_split=0.2)"
   ]
  },
  {
   "cell_type": "code",
   "execution_count": null,
   "id": "e9361be3",
   "metadata": {},
   "outputs": [],
   "source": [
    "historyOut(history)"
   ]
  }
 ],
 "metadata": {
  "kernelspec": {
   "display_name": "Python 3 (ipykernel)",
   "language": "python",
   "name": "python3"
  },
  "language_info": {
   "codemirror_mode": {
    "name": "ipython",
    "version": 3
   },
   "file_extension": ".py",
   "mimetype": "text/x-python",
   "name": "python",
   "nbconvert_exporter": "python",
   "pygments_lexer": "ipython3",
   "version": "3.9.7"
  }
 },
 "nbformat": 4,
 "nbformat_minor": 5
}
